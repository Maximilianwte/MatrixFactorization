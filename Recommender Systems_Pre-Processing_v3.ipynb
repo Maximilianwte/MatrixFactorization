{
 "cells": [
  {
   "cell_type": "markdown",
   "metadata": {},
   "source": [
    "## Pre-Processing v3.0\n",
    "### Vectorized.\n"
   ]
  },
  {
   "cell_type": "code",
   "execution_count": 1,
   "metadata": {},
   "outputs": [],
   "source": [
    "import pandas as pd\n",
    "import numpy as np\n",
    "import os\n",
    "import heapq\n",
    "import scipy.sparse as sparse"
   ]
  },
  {
   "cell_type": "code",
   "execution_count": 8,
   "metadata": {},
   "outputs": [],
   "source": [
    "class Pre_Processer:\n",
    "    def __init__(self):\n",
    "        self.contentType = {\"Statistic\": \"0\", \"Statista-Dossier\": \"1\", \"external Report\": \"2\", \"Industry Report\": \"3\"}\n",
    "        \n",
    "    def read_data_full(self):\n",
    "        self.data_users = pd.read_csv(\"../StatistaUsers10000.csv\")\n",
    "        self.data_tracking = pd.read_csv(\"../StatistaTracking10000.csv\")\n",
    "\n",
    "        return self.data_users, self.data_tracking\n",
    "    \n",
    "    def read_pickles(self):\n",
    "        self.training_set = pd.read_pickle(f\"../training_set.pkl\", compression=\"zip\")\n",
    "        self.test_set = pd.read_pickle(f\"../test_set.pkl\", compression=\"zip\")\n",
    "        \n",
    "        return self.training_set, self.test_set\n",
    "    \n",
    "    def generate_fullID_vectorized(self, subType, contentId):\n",
    "        array = []\n",
    "        for i in range(len(subType)):\n",
    "            array.append((self.contentType[subType[i]] if subType[i] in self.contentType else \"4\") + \"_\" + str(contentId[i]))\n",
    "\n",
    "        return array\n",
    "    \n",
    "    def clean_tracking(self, tracking_data, start_year = 2016):\n",
    "        data = tracking_data[tracking_data.idContent != 0]\n",
    "        data = data.iloc[:, 0:6]\n",
    "        data = data[data.year > start_year]\n",
    "        data[\"date\"] = data['year'].astype(str) + \"-\" + data['month'].astype(str) + \"-\" + data[\"day\"].astype(str)\n",
    "        data[\"fullId\"] = self.generate_fullID_vectorized(data[\"contentSubType\"].values, data[\"idContent\"].values)\n",
    "\n",
    "        self.data_tracking = data\n",
    "        data.to_pickle(f\"../data_tracking.pkl\", compression=\"zip\")\n",
    "        return data\n",
    "    \n",
    "    def create_timesplit(self, data, date):\n",
    "        self.training_set = data[data.date < date]\n",
    "        self.test_set = data[data.date >= date]\n",
    "        \n",
    "        self.training_set.to_pickle(f\"../training_set.pkl\", compression=\"zip\")\n",
    "        self.test_set.to_pickle(f\"../test_set.pkl\", compression=\"zip\")\n",
    "        return self.training_set, self.test_set\n",
    "    \n",
    "    def create_matrices(self, training_set, test_set):\n",
    "        # training_set\n",
    "        frame = training_set[[\"idUser\", \"fullId\"]]\n",
    "        frame[\"views\"] = np.ones([len(frame[\"fullId\"]),1])\n",
    "        frame = frame.groupby(by=[\"idUser\", \"fullId\"]).sum().reset_index()\n",
    "\n",
    "        user = list(np.sort(frame.idUser.unique()))\n",
    "        content = list(np.sort(frame.fullId.unique()))\n",
    "        views = list(frame.views)\n",
    "        rows = frame.idUser.astype('category').cat.codes \n",
    "        cols = frame.fullId.astype('category').cat.codes \n",
    "        \n",
    "        self.sparsity_ofdata = 1 - (len(views) / (len(content) * len(user)))\n",
    "\n",
    "        matrix_csr = sparse.csr_matrix((views, (rows, cols)), shape=(len(user), len(content)))\n",
    "        matrix_coo = sparse.coo_matrix((views, (rows, cols)), shape=(len(user), len(content)))\n",
    "        sparse.save_npz(f\"../ratings_matrix_csr\", matrix_csr, compressed=True)\n",
    "        sparse.save_npz(f\"../ratings_matrix_coo\", matrix_coo, compressed=True)\n",
    "\n",
    "        training_set = frame\n",
    "        #training_set.to_excel(f\"../training_set.xlsx\")\n",
    "        \n",
    "        self.matrix_csr = matrix_csr\n",
    "        self.matrix_coo = matrix_coo\n",
    "        \n",
    "        self.user = user\n",
    "        self.content = content\n",
    "        self.views = views\n",
    "        self.rows = rows\n",
    "        self.cols = cols\n",
    "        \n",
    "        np.save(\"../user_ids\", user)\n",
    "        np.save(\"../content_ids\", content)\n",
    "\n",
    "        # test_set\n",
    "        \"\"\"frame = test_set.sort_values(by='date')\n",
    "        frame = frame[[\"idUser\", \"fullId\"]]\n",
    "        frame[\"views\"] = np.ones([len(frame[\"fullId\"]),1])\n",
    "        frame = frame.groupby(by=[\"idUser\", \"fullId\"]).sum().reset_index()\n",
    "\n",
    "\n",
    "        test_set = frame\n",
    "        #test_set.to_excel(f\"../test_set.xlsx\")\n",
    "        test_set.to_pickle(f\"../test_set\")\"\"\""
   ]
  },
  {
   "cell_type": "markdown",
   "metadata": {},
   "source": [
    "### Pre Processing run:"
   ]
  },
  {
   "cell_type": "code",
   "execution_count": 9,
   "metadata": {},
   "outputs": [],
   "source": [
    "Data = Pre_Processer()"
   ]
  },
  {
   "cell_type": "code",
   "execution_count": 4,
   "metadata": {},
   "outputs": [],
   "source": [
    "user_data, data_tracking = Data.read_data_full()"
   ]
  },
  {
   "cell_type": "code",
   "execution_count": 5,
   "metadata": {},
   "outputs": [],
   "source": [
    "data_tracking = Data.clean_tracking(data_tracking, start_year=2016)"
   ]
  },
  {
   "cell_type": "code",
   "execution_count": 11,
   "metadata": {},
   "outputs": [
    {
     "name": "stderr",
     "output_type": "stream",
     "text": [
      "/Users/maximilianwitte/anaconda3/lib/python3.7/site-packages/ipykernel_launcher.py:46: SettingWithCopyWarning: \n",
      "A value is trying to be set on a copy of a slice from a DataFrame.\n",
      "Try using .loc[row_indexer,col_indexer] = value instead\n",
      "\n",
      "See the caveats in the documentation: http://pandas.pydata.org/pandas-docs/stable/indexing.html#indexing-view-versus-copy\n"
     ]
    }
   ],
   "source": [
    "#training_set, test_set = Data.create_timesplit(data_tracking, \"2019-5-1\")\n",
    "Data.create_matrices(training_set, test_set)"
   ]
  },
  {
   "cell_type": "markdown",
   "metadata": {},
   "source": [
    "#### Load Pickles:"
   ]
  },
  {
   "cell_type": "code",
   "execution_count": 10,
   "metadata": {},
   "outputs": [],
   "source": [
    "training_set, test_set = Data.read_pickles()"
   ]
  },
  {
   "cell_type": "markdown",
   "metadata": {},
   "source": [
    "### Analysis:"
   ]
  },
  {
   "cell_type": "code",
   "execution_count": null,
   "metadata": {},
   "outputs": [],
   "source": [
    "data_tracking.describe()"
   ]
  },
  {
   "cell_type": "code",
   "execution_count": null,
   "metadata": {},
   "outputs": [],
   "source": [
    "data_tracking.tail()"
   ]
  },
  {
   "cell_type": "code",
   "execution_count": null,
   "metadata": {},
   "outputs": [],
   "source": [
    "data_tracking[data_tracking.idUser == 5731].head()"
   ]
  },
  {
   "cell_type": "code",
   "execution_count": null,
   "metadata": {},
   "outputs": [],
   "source": [
    "int(len(data_tracking.idUser))"
   ]
  },
  {
   "cell_type": "code",
   "execution_count": 16,
   "metadata": {},
   "outputs": [
    {
     "data": {
      "text/plain": [
       "0.9921601970895453"
      ]
     },
     "execution_count": 16,
     "metadata": {},
     "output_type": "execute_result"
    }
   ],
   "source": [
    "Data.sparsity_ofdata"
   ]
  },
  {
   "cell_type": "code",
   "execution_count": 17,
   "metadata": {},
   "outputs": [
    {
     "data": {
      "text/plain": [
       "0.007839802910454718"
      ]
     },
     "execution_count": 17,
     "metadata": {},
     "output_type": "execute_result"
    }
   ],
   "source": [
    "1 - Data.sparsity_ofdata"
   ]
  },
  {
   "cell_type": "code",
   "execution_count": null,
   "metadata": {},
   "outputs": [],
   "source": [
    "\"10 Mio. Zeilen\"\n",
    "voller_datensatz = 10019879\n",
    "\"1.54 Mio. Zeilen\"\n",
    "n_test_april = 1543999"
   ]
  },
  {
   "cell_type": "code",
   "execution_count": null,
   "metadata": {},
   "outputs": [],
   "source": [
    "n_test_april / voller_datensatz"
   ]
  },
  {
   "cell_type": "code",
   "execution_count": 13,
   "metadata": {},
   "outputs": [
    {
     "data": {
      "text/plain": [
       "0.12358672501015389"
      ]
     },
     "execution_count": 13,
     "metadata": {},
     "output_type": "execute_result"
    }
   ],
   "source": [
    "len(test_set.day) / len(training_set.day) "
   ]
  },
  {
   "cell_type": "code",
   "execution_count": 19,
   "metadata": {},
   "outputs": [
    {
     "data": {
      "text/plain": [
       "array([[0., 0., 0., ..., 0., 0., 0.],\n",
       "       [0., 0., 0., ..., 0., 0., 0.],\n",
       "       [0., 0., 0., ..., 0., 0., 0.],\n",
       "       ...,\n",
       "       [0., 0., 0., ..., 0., 0., 0.],\n",
       "       [0., 0., 0., ..., 0., 0., 0.],\n",
       "       [0., 0., 0., ..., 0., 0., 0.]])"
      ]
     },
     "execution_count": 19,
     "metadata": {},
     "output_type": "execute_result"
    }
   ],
   "source": [
    "Data.matrix_csr.toarray()[indexUser][indexContent]"
   ]
  },
  {
   "cell_type": "code",
   "execution_count": 89,
   "metadata": {},
   "outputs": [
    {
     "name": "stderr",
     "output_type": "stream",
     "text": [
      "/Users/maximilianwitte/anaconda3/lib/python3.7/site-packages/ipykernel_launcher.py:2: SettingWithCopyWarning: \n",
      "A value is trying to be set on a copy of a slice from a DataFrame.\n",
      "Try using .loc[row_indexer,col_indexer] = value instead\n",
      "\n",
      "See the caveats in the documentation: http://pandas.pydata.org/pandas-docs/stable/indexing.html#indexing-view-versus-copy\n",
      "  \n"
     ]
    }
   ],
   "source": [
    "df = training_set[[\"idUser\", \"fullId\"]]\n",
    "df[\"views\"] = np.ones([len(df[\"fullId\"]),1])\n",
    "df = df.groupby(by=[\"idUser\", \"fullId\"]).sum().reset_index()"
   ]
  },
  {
   "cell_type": "code",
   "execution_count": 116,
   "metadata": {},
   "outputs": [
    {
     "name": "stderr",
     "output_type": "stream",
     "text": [
      "/Users/maximilianwitte/anaconda3/lib/python3.7/site-packages/IPython/core/interactiveshell.py:3296: FutureWarning: specifying 'categories' or 'ordered' in .astype() is deprecated; pass a CategoricalDtype instead\n",
      "  exec(code_obj, self.user_global_ns, self.user_ns)\n"
     ]
    }
   ],
   "source": [
    "user = np.sort(df.idUser.unique())\n",
    "content = np.sort(df.fullId.unique())\n",
    "views = list(df.views)\n",
    "rows = df.idUser.astype('category', categories = user).cat.codes \n",
    "cols = df.fullId.astype('category', categories = content).cat.codes "
   ]
  },
  {
   "cell_type": "code",
   "execution_count": 161,
   "metadata": {},
   "outputs": [],
   "source": [
    "indxUser = np.where(user==699743)[0][0]\n",
    "indxContent = np.where(content==\"4_9817\")[0][0]"
   ]
  },
  {
   "cell_type": "code",
   "execution_count": 117,
   "metadata": {},
   "outputs": [],
   "source": [
    "matrix_csr = sparse.csr_matrix((views, (rows, cols)), shape=(len(user), len(content)))"
   ]
  },
  {
   "cell_type": "code",
   "execution_count": 125,
   "metadata": {},
   "outputs": [
    {
     "data": {
      "text/html": [
       "<div>\n",
       "<style scoped>\n",
       "    .dataframe tbody tr th:only-of-type {\n",
       "        vertical-align: middle;\n",
       "    }\n",
       "\n",
       "    .dataframe tbody tr th {\n",
       "        vertical-align: top;\n",
       "    }\n",
       "\n",
       "    .dataframe thead th {\n",
       "        text-align: right;\n",
       "    }\n",
       "</style>\n",
       "<table border=\"1\" class=\"dataframe\">\n",
       "  <thead>\n",
       "    <tr style=\"text-align: right;\">\n",
       "      <th></th>\n",
       "      <th>idUser</th>\n",
       "      <th>fullId</th>\n",
       "      <th>views</th>\n",
       "    </tr>\n",
       "  </thead>\n",
       "  <tbody>\n",
       "    <tr>\n",
       "      <th>0</th>\n",
       "      <td>276</td>\n",
       "      <td>0_262467</td>\n",
       "      <td>1.0</td>\n",
       "    </tr>\n",
       "    <tr>\n",
       "      <th>1</th>\n",
       "      <td>276</td>\n",
       "      <td>0_275352</td>\n",
       "      <td>1.0</td>\n",
       "    </tr>\n",
       "    <tr>\n",
       "      <th>2</th>\n",
       "      <td>276</td>\n",
       "      <td>0_768643</td>\n",
       "      <td>1.0</td>\n",
       "    </tr>\n",
       "    <tr>\n",
       "      <th>3</th>\n",
       "      <td>276</td>\n",
       "      <td>0_821018</td>\n",
       "      <td>1.0</td>\n",
       "    </tr>\n",
       "    <tr>\n",
       "      <th>4</th>\n",
       "      <td>288</td>\n",
       "      <td>0_217688</td>\n",
       "      <td>1.0</td>\n",
       "    </tr>\n",
       "    <tr>\n",
       "      <th>5</th>\n",
       "      <td>288</td>\n",
       "      <td>0_521826</td>\n",
       "      <td>1.0</td>\n",
       "    </tr>\n",
       "    <tr>\n",
       "      <th>6</th>\n",
       "      <td>296</td>\n",
       "      <td>4_20000000</td>\n",
       "      <td>3.0</td>\n",
       "    </tr>\n",
       "    <tr>\n",
       "      <th>7</th>\n",
       "      <td>296</td>\n",
       "      <td>4_243</td>\n",
       "      <td>1.0</td>\n",
       "    </tr>\n",
       "    <tr>\n",
       "      <th>8</th>\n",
       "      <td>296</td>\n",
       "      <td>4_295</td>\n",
       "      <td>2.0</td>\n",
       "    </tr>\n",
       "    <tr>\n",
       "      <th>9</th>\n",
       "      <td>296</td>\n",
       "      <td>4_40000000</td>\n",
       "      <td>1.0</td>\n",
       "    </tr>\n",
       "    <tr>\n",
       "      <th>10</th>\n",
       "      <td>296</td>\n",
       "      <td>4_50000000</td>\n",
       "      <td>2.0</td>\n",
       "    </tr>\n",
       "    <tr>\n",
       "      <th>11</th>\n",
       "      <td>298</td>\n",
       "      <td>0_1365</td>\n",
       "      <td>2.0</td>\n",
       "    </tr>\n",
       "    <tr>\n",
       "      <th>12</th>\n",
       "      <td>298</td>\n",
       "      <td>0_157841</td>\n",
       "      <td>1.0</td>\n",
       "    </tr>\n",
       "    <tr>\n",
       "      <th>13</th>\n",
       "      <td>298</td>\n",
       "      <td>0_161831</td>\n",
       "      <td>2.0</td>\n",
       "    </tr>\n",
       "    <tr>\n",
       "      <th>14</th>\n",
       "      <td>298</td>\n",
       "      <td>0_1722</td>\n",
       "      <td>1.0</td>\n",
       "    </tr>\n",
       "    <tr>\n",
       "      <th>15</th>\n",
       "      <td>298</td>\n",
       "      <td>0_209185</td>\n",
       "      <td>1.0</td>\n",
       "    </tr>\n",
       "    <tr>\n",
       "      <th>16</th>\n",
       "      <td>298</td>\n",
       "      <td>0_243742</td>\n",
       "      <td>1.0</td>\n",
       "    </tr>\n",
       "    <tr>\n",
       "      <th>17</th>\n",
       "      <td>298</td>\n",
       "      <td>0_245978</td>\n",
       "      <td>1.0</td>\n",
       "    </tr>\n",
       "    <tr>\n",
       "      <th>18</th>\n",
       "      <td>298</td>\n",
       "      <td>0_269662</td>\n",
       "      <td>2.0</td>\n",
       "    </tr>\n",
       "    <tr>\n",
       "      <th>19</th>\n",
       "      <td>298</td>\n",
       "      <td>0_274366</td>\n",
       "      <td>1.0</td>\n",
       "    </tr>\n",
       "    <tr>\n",
       "      <th>20</th>\n",
       "      <td>298</td>\n",
       "      <td>0_290933</td>\n",
       "      <td>1.0</td>\n",
       "    </tr>\n",
       "    <tr>\n",
       "      <th>21</th>\n",
       "      <td>298</td>\n",
       "      <td>0_30730</td>\n",
       "      <td>2.0</td>\n",
       "    </tr>\n",
       "    <tr>\n",
       "      <th>22</th>\n",
       "      <td>298</td>\n",
       "      <td>0_316971</td>\n",
       "      <td>1.0</td>\n",
       "    </tr>\n",
       "    <tr>\n",
       "      <th>23</th>\n",
       "      <td>298</td>\n",
       "      <td>0_36502</td>\n",
       "      <td>1.0</td>\n",
       "    </tr>\n",
       "    <tr>\n",
       "      <th>24</th>\n",
       "      <td>298</td>\n",
       "      <td>0_36679</td>\n",
       "      <td>1.0</td>\n",
       "    </tr>\n",
       "    <tr>\n",
       "      <th>25</th>\n",
       "      <td>298</td>\n",
       "      <td>0_3979</td>\n",
       "      <td>1.0</td>\n",
       "    </tr>\n",
       "    <tr>\n",
       "      <th>26</th>\n",
       "      <td>298</td>\n",
       "      <td>0_430220</td>\n",
       "      <td>1.0</td>\n",
       "    </tr>\n",
       "    <tr>\n",
       "      <th>27</th>\n",
       "      <td>298</td>\n",
       "      <td>0_443348</td>\n",
       "      <td>4.0</td>\n",
       "    </tr>\n",
       "    <tr>\n",
       "      <th>28</th>\n",
       "      <td>298</td>\n",
       "      <td>0_527554</td>\n",
       "      <td>1.0</td>\n",
       "    </tr>\n",
       "    <tr>\n",
       "      <th>29</th>\n",
       "      <td>298</td>\n",
       "      <td>0_568986</td>\n",
       "      <td>1.0</td>\n",
       "    </tr>\n",
       "    <tr>\n",
       "      <th>...</th>\n",
       "      <td>...</td>\n",
       "      <td>...</td>\n",
       "      <td>...</td>\n",
       "    </tr>\n",
       "    <tr>\n",
       "      <th>2913556</th>\n",
       "      <td>699743</td>\n",
       "      <td>4_9357</td>\n",
       "      <td>1.0</td>\n",
       "    </tr>\n",
       "    <tr>\n",
       "      <th>2913557</th>\n",
       "      <td>699743</td>\n",
       "      <td>4_9378</td>\n",
       "      <td>1.0</td>\n",
       "    </tr>\n",
       "    <tr>\n",
       "      <th>2913558</th>\n",
       "      <td>699743</td>\n",
       "      <td>4_9400</td>\n",
       "      <td>1.0</td>\n",
       "    </tr>\n",
       "    <tr>\n",
       "      <th>2913559</th>\n",
       "      <td>699743</td>\n",
       "      <td>4_9434</td>\n",
       "      <td>1.0</td>\n",
       "    </tr>\n",
       "    <tr>\n",
       "      <th>2913560</th>\n",
       "      <td>699743</td>\n",
       "      <td>4_9443</td>\n",
       "      <td>1.0</td>\n",
       "    </tr>\n",
       "    <tr>\n",
       "      <th>2913561</th>\n",
       "      <td>699743</td>\n",
       "      <td>4_9467</td>\n",
       "      <td>1.0</td>\n",
       "    </tr>\n",
       "    <tr>\n",
       "      <th>2913562</th>\n",
       "      <td>699743</td>\n",
       "      <td>4_9525</td>\n",
       "      <td>1.0</td>\n",
       "    </tr>\n",
       "    <tr>\n",
       "      <th>2913563</th>\n",
       "      <td>699743</td>\n",
       "      <td>4_9579</td>\n",
       "      <td>1.0</td>\n",
       "    </tr>\n",
       "    <tr>\n",
       "      <th>2913564</th>\n",
       "      <td>699743</td>\n",
       "      <td>4_9580</td>\n",
       "      <td>1.0</td>\n",
       "    </tr>\n",
       "    <tr>\n",
       "      <th>2913565</th>\n",
       "      <td>699743</td>\n",
       "      <td>4_9604</td>\n",
       "      <td>2.0</td>\n",
       "    </tr>\n",
       "    <tr>\n",
       "      <th>2913566</th>\n",
       "      <td>699743</td>\n",
       "      <td>4_9620</td>\n",
       "      <td>2.0</td>\n",
       "    </tr>\n",
       "    <tr>\n",
       "      <th>2913567</th>\n",
       "      <td>699743</td>\n",
       "      <td>4_9622</td>\n",
       "      <td>2.0</td>\n",
       "    </tr>\n",
       "    <tr>\n",
       "      <th>2913568</th>\n",
       "      <td>699743</td>\n",
       "      <td>4_9624</td>\n",
       "      <td>1.0</td>\n",
       "    </tr>\n",
       "    <tr>\n",
       "      <th>2913569</th>\n",
       "      <td>699743</td>\n",
       "      <td>4_9671</td>\n",
       "      <td>2.0</td>\n",
       "    </tr>\n",
       "    <tr>\n",
       "      <th>2913570</th>\n",
       "      <td>699743</td>\n",
       "      <td>4_9695</td>\n",
       "      <td>3.0</td>\n",
       "    </tr>\n",
       "    <tr>\n",
       "      <th>2913571</th>\n",
       "      <td>699743</td>\n",
       "      <td>4_9710</td>\n",
       "      <td>1.0</td>\n",
       "    </tr>\n",
       "    <tr>\n",
       "      <th>2913572</th>\n",
       "      <td>699743</td>\n",
       "      <td>4_9718</td>\n",
       "      <td>1.0</td>\n",
       "    </tr>\n",
       "    <tr>\n",
       "      <th>2913573</th>\n",
       "      <td>699743</td>\n",
       "      <td>4_9720</td>\n",
       "      <td>2.0</td>\n",
       "    </tr>\n",
       "    <tr>\n",
       "      <th>2913574</th>\n",
       "      <td>699743</td>\n",
       "      <td>4_9725</td>\n",
       "      <td>1.0</td>\n",
       "    </tr>\n",
       "    <tr>\n",
       "      <th>2913575</th>\n",
       "      <td>699743</td>\n",
       "      <td>4_9761</td>\n",
       "      <td>4.0</td>\n",
       "    </tr>\n",
       "    <tr>\n",
       "      <th>2913576</th>\n",
       "      <td>699743</td>\n",
       "      <td>4_9799</td>\n",
       "      <td>1.0</td>\n",
       "    </tr>\n",
       "    <tr>\n",
       "      <th>2913577</th>\n",
       "      <td>699743</td>\n",
       "      <td>4_9800</td>\n",
       "      <td>1.0</td>\n",
       "    </tr>\n",
       "    <tr>\n",
       "      <th>2913578</th>\n",
       "      <td>699743</td>\n",
       "      <td>4_9817</td>\n",
       "      <td>6.0</td>\n",
       "    </tr>\n",
       "    <tr>\n",
       "      <th>2913579</th>\n",
       "      <td>699743</td>\n",
       "      <td>4_9821</td>\n",
       "      <td>1.0</td>\n",
       "    </tr>\n",
       "    <tr>\n",
       "      <th>2913580</th>\n",
       "      <td>699743</td>\n",
       "      <td>4_9824</td>\n",
       "      <td>1.0</td>\n",
       "    </tr>\n",
       "    <tr>\n",
       "      <th>2913581</th>\n",
       "      <td>699743</td>\n",
       "      <td>4_9838</td>\n",
       "      <td>2.0</td>\n",
       "    </tr>\n",
       "    <tr>\n",
       "      <th>2913582</th>\n",
       "      <td>699743</td>\n",
       "      <td>4_9918</td>\n",
       "      <td>1.0</td>\n",
       "    </tr>\n",
       "    <tr>\n",
       "      <th>2913583</th>\n",
       "      <td>699743</td>\n",
       "      <td>4_9951</td>\n",
       "      <td>1.0</td>\n",
       "    </tr>\n",
       "    <tr>\n",
       "      <th>2913584</th>\n",
       "      <td>699743</td>\n",
       "      <td>4_9981</td>\n",
       "      <td>2.0</td>\n",
       "    </tr>\n",
       "    <tr>\n",
       "      <th>2913585</th>\n",
       "      <td>699780</td>\n",
       "      <td>2_26136</td>\n",
       "      <td>2.0</td>\n",
       "    </tr>\n",
       "  </tbody>\n",
       "</table>\n",
       "<p>2913586 rows × 3 columns</p>\n",
       "</div>"
      ],
      "text/plain": [
       "         idUser      fullId  views\n",
       "0           276    0_262467    1.0\n",
       "1           276    0_275352    1.0\n",
       "2           276    0_768643    1.0\n",
       "3           276    0_821018    1.0\n",
       "4           288    0_217688    1.0\n",
       "5           288    0_521826    1.0\n",
       "6           296  4_20000000    3.0\n",
       "7           296       4_243    1.0\n",
       "8           296       4_295    2.0\n",
       "9           296  4_40000000    1.0\n",
       "10          296  4_50000000    2.0\n",
       "11          298      0_1365    2.0\n",
       "12          298    0_157841    1.0\n",
       "13          298    0_161831    2.0\n",
       "14          298      0_1722    1.0\n",
       "15          298    0_209185    1.0\n",
       "16          298    0_243742    1.0\n",
       "17          298    0_245978    1.0\n",
       "18          298    0_269662    2.0\n",
       "19          298    0_274366    1.0\n",
       "20          298    0_290933    1.0\n",
       "21          298     0_30730    2.0\n",
       "22          298    0_316971    1.0\n",
       "23          298     0_36502    1.0\n",
       "24          298     0_36679    1.0\n",
       "25          298      0_3979    1.0\n",
       "26          298    0_430220    1.0\n",
       "27          298    0_443348    4.0\n",
       "28          298    0_527554    1.0\n",
       "29          298    0_568986    1.0\n",
       "...         ...         ...    ...\n",
       "2913556  699743      4_9357    1.0\n",
       "2913557  699743      4_9378    1.0\n",
       "2913558  699743      4_9400    1.0\n",
       "2913559  699743      4_9434    1.0\n",
       "2913560  699743      4_9443    1.0\n",
       "2913561  699743      4_9467    1.0\n",
       "2913562  699743      4_9525    1.0\n",
       "2913563  699743      4_9579    1.0\n",
       "2913564  699743      4_9580    1.0\n",
       "2913565  699743      4_9604    2.0\n",
       "2913566  699743      4_9620    2.0\n",
       "2913567  699743      4_9622    2.0\n",
       "2913568  699743      4_9624    1.0\n",
       "2913569  699743      4_9671    2.0\n",
       "2913570  699743      4_9695    3.0\n",
       "2913571  699743      4_9710    1.0\n",
       "2913572  699743      4_9718    1.0\n",
       "2913573  699743      4_9720    2.0\n",
       "2913574  699743      4_9725    1.0\n",
       "2913575  699743      4_9761    4.0\n",
       "2913576  699743      4_9799    1.0\n",
       "2913577  699743      4_9800    1.0\n",
       "2913578  699743      4_9817    6.0\n",
       "2913579  699743      4_9821    1.0\n",
       "2913580  699743      4_9824    1.0\n",
       "2913581  699743      4_9838    2.0\n",
       "2913582  699743      4_9918    1.0\n",
       "2913583  699743      4_9951    1.0\n",
       "2913584  699743      4_9981    2.0\n",
       "2913585  699780     2_26136    2.0\n",
       "\n",
       "[2913586 rows x 3 columns]"
      ]
     },
     "execution_count": 125,
     "metadata": {},
     "output_type": "execute_result"
    }
   ],
   "source": [
    "df"
   ]
  },
  {
   "cell_type": "code",
   "execution_count": 162,
   "metadata": {},
   "outputs": [
    {
     "data": {
      "text/plain": [
       "6.0"
      ]
     },
     "execution_count": 162,
     "metadata": {},
     "output_type": "execute_result"
    }
   ],
   "source": [
    "matrix_csr.toarray()[indxUser][indxContent]"
   ]
  },
  {
   "cell_type": "code",
   "execution_count": 166,
   "metadata": {},
   "outputs": [
    {
     "data": {
      "text/plain": [
       "(851, 436710)"
      ]
     },
     "execution_count": 166,
     "metadata": {},
     "output_type": "execute_result"
    }
   ],
   "source": [
    "matrix_csr.toarray().shape"
   ]
  },
  {
   "cell_type": "code",
   "execution_count": null,
   "metadata": {},
   "outputs": [],
   "source": []
  }
 ],
 "metadata": {
  "kernelspec": {
   "display_name": "Python 3",
   "language": "python",
   "name": "python3"
  },
  "language_info": {
   "codemirror_mode": {
    "name": "ipython",
    "version": 3
   },
   "file_extension": ".py",
   "mimetype": "text/x-python",
   "name": "python",
   "nbconvert_exporter": "python",
   "pygments_lexer": "ipython3",
   "version": "3.7.3"
  }
 },
 "nbformat": 4,
 "nbformat_minor": 2
}
