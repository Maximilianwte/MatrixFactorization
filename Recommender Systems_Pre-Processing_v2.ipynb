{
 "cells": [
  {
   "cell_type": "code",
   "execution_count": 1,
   "metadata": {},
   "outputs": [],
   "source": [
    "import pandas as pd\n",
    "import numpy as np\n",
    "import os\n",
    "import heapq\n",
    "import scipy.sparse as sparse"
   ]
  },
  {
   "cell_type": "markdown",
   "metadata": {},
   "source": [
    "## V1.0\n",
    "#### Innerhalb der Klasse."
   ]
  },
  {
   "cell_type": "code",
   "execution_count": 2,
   "metadata": {},
   "outputs": [],
   "source": [
    "class Pre_Processer:\n",
    "    def __init__(self):\n",
    "        self.contentType = {\"Statistic\": \"0\", \"Statista-Dossier\": \"1\", \"external Report\": \"2\", \"Industry Report\": \"3\"}\n",
    "        \n",
    "    def read_data_full(self):\n",
    "        self.data_users = pd.read_csv(\"../StatistaUsers10000.csv\")\n",
    "        self.data_tracking = pd.read_csv(\"../StatistaTracking10000.csv\")\n",
    "        \n",
    "    def read_data_tracking(self):\n",
    "        self.data_users = pd.read_csv(\"../StatistaUsers10000.csv\")\n",
    "        self.data_tracking = pd.read_excel(\"../data_tracking.xlsx\")\n",
    "        self.data_tracking = self.data_tracking.drop(\"Unnamed: 0\", axis=1)\n",
    "        \n",
    "    def clean_data(self):        \n",
    "        data_tracking = self.data_tracking[self.data_tracking.idContent != 0]\n",
    "        data_tracking[\"fullId\"] = data_tracking.apply(lambda x: (self.contentType[x[\"contentSubType\"]] if x[\"contentSubType\"] in self.contentType else \"4\") + \"_\" + str(x[\"idContent\"] ), axis=1)\n",
    "        data_tracking[\"date\"] = data_tracking.apply(lambda x: pd.to_datetime(f\"{x.day}-{x.month}-{x.year}\"), axis=1)\n",
    "        \n",
    "        self.data_tracking = data_tracking\n",
    "        self.data_tracking.to_excel(f\"../data_tracking.xlsx\")\n",
    "        \n",
    "    def get_sample(self, fractions, i_frame):        \n",
    "        return np.array_split(self.data_tracking, fractions)[i_frame]\n",
    "    \n",
    "    def create_timesplit(self, date):\n",
    "        self.training_set = self.data_tracking[self.data_tracking.date < date]\n",
    "        self.test_set = self.data_tracking[self.data_tracking.date >= date]\n",
    "        \n",
    "    def create_matrix_sample(self, fractions = 1, i_frame = 0):\n",
    "        if fractions != 1:\n",
    "            if fractions < i_frame:\n",
    "                i_frame = fractions\n",
    "\n",
    "            self.data_tracking = self.get_sample(fractions, i_frame)\n",
    "        \n",
    "        frame = self.data_tracking[[\"idUser\", \"fullId\"]]\n",
    "        frame[\"views\"] = np.ones([len(frame[\"fullId\"]),1])\n",
    "        frame = frame.groupby(by=[\"idUser\", \"fullId\"]).sum().reset_index()\n",
    "        \n",
    "        user = list(np.sort(frame.idUser.unique()))\n",
    "        content = list(np.sort(frame.fullId.unique()))\n",
    "        views = list(frame.views)\n",
    "        rows = frame.idUser.astype('category', categories = user).cat.codes \n",
    "        cols = frame.fullId.astype('category', categories = content).cat.codes \n",
    "        \n",
    "        self.sparsity_ofdata = 1 - (len(views) / (len(content) * len(user)))\n",
    "                \n",
    "        self.matrix = sparse.csr_matrix((views, (rows, cols)), shape=(len(user), len(content)))\n",
    "        size_name = self.get_size(fractions)\n",
    "        sparse.save_npz(f\"../ratings_matrix_{self.matrix_size}_{size_name}\", self.matrix, compressed=True)\n",
    "        \n",
    "        self.matrix_asFrame = frame\n",
    "        self.matrix_asFrame.to_excel(f\"../data_{self.matrix_size}_{size_name}.xlsx\")\n",
    "        \n",
    "        self.content_list = content\n",
    "        \n",
    "    def create_matrix_timesplit(self):\n",
    "        training_set = self.training_set\n",
    "        test_set = self.test_set\n",
    "        \n",
    "        # training_set\n",
    "        frame = self.training_set[[\"idUser\", \"fullId\"]]\n",
    "        frame[\"views\"] = np.ones([len(frame[\"fullId\"]),1])\n",
    "        frame = frame.groupby(by=[\"idUser\", \"fullId\"]).sum().reset_index()\n",
    "        \n",
    "        user = list(np.sort(frame.idUser.unique()))\n",
    "        content = list(np.sort(frame.fullId.unique()))\n",
    "        views = list(frame.views)\n",
    "        rows = frame.idUser.astype('category', categories = user).cat.codes \n",
    "        cols = frame.fullId.astype('category', categories = content).cat.codes \n",
    "        \n",
    "        self.sparsity_ofdata = 1 - (len(views) / (len(content) * len(user)))\n",
    "                \n",
    "        self.matrix_csr = sparse.csr_matrix((views, (rows, cols)), shape=(len(user), len(content)))\n",
    "        self.matrix_coo = sparse.coo_matrix((views, (rows, cols)), shape=(len(user), len(content)))\n",
    "        sparse.save_npz(f\"../ratings_matrix_csr\", self.matrix_csr, compressed=True)\n",
    "        sparse.save_npz(f\"../ratings_matrix_coo\", self.matrix_coo, compressed=True)\n",
    "        \n",
    "        self.training_set = frame\n",
    "        self.training_set.to_excel(f\"../training_set.xlsx\")\n",
    "        \n",
    "        self.content_list = content\n",
    "        \n",
    "        # test_set\n",
    "        frame = self.test_set[[\"idUser\", \"fullId\"]]\n",
    "        frame[\"views\"] = np.ones([len(frame[\"fullId\"]),1])\n",
    "        frame = frame.groupby(by=[\"idUser\", \"fullId\"]).sum().reset_index()\n",
    "        \n",
    "        self.test_set = frame\n",
    "        self.test_set.to_excel(f\"../test_set.xlsx\")"
   ]
  },
  {
   "cell_type": "code",
   "execution_count": 3,
   "metadata": {},
   "outputs": [],
   "source": [
    "Data = Pre_Processer()"
   ]
  },
  {
   "cell_type": "code",
   "execution_count": null,
   "metadata": {},
   "outputs": [],
   "source": [
    "Data.read_data_tracking()\n",
    "# If fractions is less than 1, the data frame is going to get divided into pieces. Only the i_frame is going to get returned.\n",
    "Data.clean_data()\n",
    "Data.create_timesplit(\"2019-01-01\")\n",
    "Data.create_matrix_timesplit()\n",
    "#Data.create_matrix(fractions=1, i_frame=47)"
   ]
  },
  {
   "cell_type": "code",
   "execution_count": null,
   "metadata": {},
   "outputs": [],
   "source": [
    "Data.matrix_asFrame.describe()"
   ]
  },
  {
   "cell_type": "code",
   "execution_count": null,
   "metadata": {},
   "outputs": [],
   "source": [
    "Data.matrix_asFrame.tail()"
   ]
  },
  {
   "cell_type": "code",
   "execution_count": null,
   "metadata": {},
   "outputs": [],
   "source": [
    "Data.matrix_asFrame[Data.matrix_asFrame.idUser == 5731].head()"
   ]
  },
  {
   "cell_type": "code",
   "execution_count": null,
   "metadata": {},
   "outputs": [],
   "source": [
    "Data.matrix.toarray()"
   ]
  },
  {
   "cell_type": "code",
   "execution_count": null,
   "metadata": {},
   "outputs": [],
   "source": [
    "int(len(Data.data_tracking.idUser))"
   ]
  },
  {
   "cell_type": "code",
   "execution_count": null,
   "metadata": {},
   "outputs": [],
   "source": [
    "Data.sparsity_ofdata"
   ]
  },
  {
   "cell_type": "code",
   "execution_count": null,
   "metadata": {},
   "outputs": [],
   "source": [
    "1 - Data.sparsity_ofdata"
   ]
  },
  {
   "cell_type": "code",
   "execution_count": 10,
   "metadata": {},
   "outputs": [],
   "source": [
    "\"18.5 Mio. Zeilen\"\n",
    "voller_datensatz = 18498789\n",
    "\"2.69 Mio. Zeilen\"\n",
    "n_2019 = 2688034"
   ]
  },
  {
   "cell_type": "code",
   "execution_count": 11,
   "metadata": {},
   "outputs": [
    {
     "data": {
      "text/plain": [
       "0.14530864696061996"
      ]
     },
     "execution_count": 11,
     "metadata": {},
     "output_type": "execute_result"
    }
   ],
   "source": [
    "n_2019 / voller_datensatz"
   ]
  },
  {
   "cell_type": "markdown",
   "metadata": {},
   "source": [
    "## V2.0:"
   ]
  },
  {
   "cell_type": "code",
   "execution_count": 4,
   "metadata": {},
   "outputs": [],
   "source": [
    "Data.read_data_full()"
   ]
  },
  {
   "cell_type": "code",
   "execution_count": 5,
   "metadata": {},
   "outputs": [],
   "source": [
    "data_tracking = Data.data_tracking[Data.data_tracking.idContent != 0]"
   ]
  },
  {
   "cell_type": "code",
   "execution_count": 6,
   "metadata": {},
   "outputs": [],
   "source": [
    "data_tracking = data_tracking.iloc[:, 0:6]"
   ]
  },
  {
   "cell_type": "code",
   "execution_count": 7,
   "metadata": {},
   "outputs": [],
   "source": [
    "data_tracking = data_tracking[data_tracking.year > 2016]"
   ]
  },
  {
   "cell_type": "code",
   "execution_count": 8,
   "metadata": {},
   "outputs": [],
   "source": [
    "contentType = {\"Statistic\": \"0\", \"Statista-Dossier\": \"1\", \"external Report\": \"2\", \"Industry Report\": \"3\"}\n",
    "def vec_fullId(subType, contentId):\n",
    "    out = []\n",
    "    for i in range(len(subType)):\n",
    "        out.append((contentType[subType[i]] if subType[i] in contentType else \"4\") + \"_\" + str(contentId[i]))\n",
    "        \n",
    "    return out"
   ]
  },
  {
   "cell_type": "code",
   "execution_count": 9,
   "metadata": {},
   "outputs": [],
   "source": [
    "data_tracking[\"date\"] = data_tracking['year'].astype(str) + \"-\" + data_tracking['month'].astype(str) + \"-\" + data_tracking[\"day\"].astype(str)"
   ]
  },
  {
   "cell_type": "code",
   "execution_count": null,
   "metadata": {},
   "outputs": [],
   "source": [
    "data_tracking[\"fullId\"] = vec_fullId(data_tracking[\"contentSubType\"].values, data_tracking[\"idContent\"].values)"
   ]
  },
  {
   "cell_type": "code",
   "execution_count": null,
   "metadata": {},
   "outputs": [],
   "source": [
    "training_set = data_tracking[data_tracking.date < \"2019-04-01\"]\n",
    "test_set = data_tracking[data_tracking.date >= \"2019-04-01\"]"
   ]
  },
  {
   "cell_type": "code",
   "execution_count": null,
   "metadata": {},
   "outputs": [],
   "source": [
    "# training_set\n",
    "frame = training_set[[\"idUser\", \"fullId\"]]\n",
    "frame[\"views\"] = np.ones([len(frame[\"fullId\"]),1])\n",
    "frame = frame.groupby(by=[\"idUser\", \"fullId\"]).sum().reset_index()\n",
    "\n",
    "user = list(np.sort(frame.idUser.unique()))\n",
    "content = list(np.sort(frame.fullId.unique()))\n",
    "views = list(frame.views)\n",
    "rows = frame.idUser.astype('category', categories = user).cat.codes \n",
    "cols = frame.fullId.astype('category', categories = content).cat.codes \n",
    "\n",
    "sparsity_ofdata = 1 - (len(views) / (len(content) * len(user)))\n",
    "\n",
    "matrix_csr = sparse.csr_matrix((views, (rows, cols)), shape=(len(user), len(content)))\n",
    "matrix_coo = sparse.coo_matrix((views, (rows, cols)), shape=(len(user), len(content)))\n",
    "sparse.save_npz(f\"../ratings_matrix_csr\", matrix_csr, compressed=True)\n",
    "sparse.save_npz(f\"../ratings_matrix_coo\", matrix_coo, compressed=True)\n",
    "\n",
    "training_set = frame\n",
    "#training_set.to_excel(f\"../training_set.xlsx\")\n",
    "\n",
    "# test_set\n",
    "frame = test_set.sort_values(by='date')\n",
    "frame = frame[[\"idUser\", \"fullId\"]]\n",
    "frame[\"views\"] = np.ones([len(frame[\"fullId\"]),1])\n",
    "frame = frame.groupby(by=[\"idUser\", \"fullId\"]).sum().reset_index()\n",
    "\n",
    "\n",
    "test_set = frame\n",
    "#test_set.to_excel(f\"../test_set.xlsx\")\n",
    "\n",
    "np.save(\"../user_ids\", user)\n",
    "np.save(\"../content_ids\", content)"
   ]
  },
  {
   "cell_type": "code",
   "execution_count": null,
   "metadata": {},
   "outputs": [],
   "source": []
  }
 ],
 "metadata": {
  "kernelspec": {
   "display_name": "Python 3",
   "language": "python",
   "name": "python3"
  },
  "language_info": {
   "codemirror_mode": {
    "name": "ipython",
    "version": 3
   },
   "file_extension": ".py",
   "mimetype": "text/x-python",
   "name": "python",
   "nbconvert_exporter": "python",
   "pygments_lexer": "ipython3",
   "version": "3.7.3"
  }
 },
 "nbformat": 4,
 "nbformat_minor": 2
}
