{
 "cells": [
  {
   "cell_type": "code",
   "execution_count": null,
   "metadata": {},
   "outputs": [],
   "source": [
    "import pandas as pd\n",
    "import numpy as np\n",
    "import os\n",
    "import heapq"
   ]
  },
  {
   "cell_type": "code",
   "execution_count": null,
   "metadata": {},
   "outputs": [],
   "source": [
    "data_users = pd.read_excel(\"Data.xlsx\", sheet_name=\"Users\")\n",
    "data_tracking = pd.read_excel(\"Data.xlsx\", sheet_name=\"Tracking\")"
   ]
  },
  {
   "cell_type": "code",
   "execution_count": null,
   "metadata": {},
   "outputs": [],
   "source": [
    "data_users.head()"
   ]
  },
  {
   "cell_type": "code",
   "execution_count": null,
   "metadata": {},
   "outputs": [],
   "source": [
    "data_tracking = data_tracking.drop(labels=[' accessType;;;;;', 'Unnamed: 9',\n",
    "       'Unnamed: 10', 'Unnamed: 11', 'Unnamed: 12', 'Unnamed: 13',\n",
    "       'Unnamed: 14', 'Unnamed: 15', 'Unnamed: 16', 'Unnamed: 17',\n",
    "       'Unnamed: 18', 'Unnamed: 19', 'Unnamed: 20', 'Unnamed: 21',\n",
    "       'Unnamed: 22', 'Unnamed: 23', 'Unnamed: 24', 'Unnamed: 25',\n",
    "       'Unnamed: 26', 'Unnamed: 27', 'Unnamed: 28', 'Unnamed: 29',\n",
    "       'Unnamed: 30', 'Unnamed: 31', 'Unnamed: 32', 'Unnamed: 33'], axis=1)\n",
    "data_tracking.columns = ['idUser', 'day', 'month', 'year', 'idContent', 'contentSubType',\n",
    "       'contentBranch', 'contentName']"
   ]
  },
  {
   "cell_type": "code",
   "execution_count": null,
   "metadata": {},
   "outputs": [],
   "source": [
    "data_tracking.head()"
   ]
  },
  {
   "cell_type": "code",
   "execution_count": null,
   "metadata": {},
   "outputs": [],
   "source": [
    "# Query example\n",
    "# user_test = data_tracking[data_tracking.idUser == 17208]"
   ]
  },
  {
   "cell_type": "code",
   "execution_count": null,
   "metadata": {},
   "outputs": [],
   "source": [
    "# v1.0 Get all the viewed content for each user\n",
    "user_dict = {\"user\": \"list\"}\n",
    "user_list = []\n",
    "\n",
    "for i in range(0, len(data_tracking[\"idUser\"])):\n",
    "\n",
    "    # Save & Create new user_list if this row starts a new users data.\n",
    "    if i == 0 or data_tracking[\"idUser\"].iloc[i] != data_tracking[\"idUser\"].iloc[i-1]:\n",
    "        user_dict[data_tracking[\"idUser\"].iloc[i-1]] = user_list\n",
    "        user_list = []\n",
    "        \n",
    "    user_list.append(data_tracking[\"idContent\"].iloc[i])\n",
    "    "
   ]
  },
  {
   "cell_type": "code",
   "execution_count": null,
   "metadata": {},
   "outputs": [],
   "source": [
    "user_dict[1880842]"
   ]
  },
  {
   "cell_type": "code",
   "execution_count": null,
   "metadata": {},
   "outputs": [],
   "source": [
    "# Get similarity v1.0\n",
    "\n",
    "user_dict_keys = user_dict.keys()\n",
    "similarity_dict = {\"user\": \"other_user\"}\n",
    "\n",
    "# Loop over all users in pairs.\n",
    "for i in range(0, 1):\n",
    "    inner_similarity_dict = {\"other_user\": \"similarity\"}\n",
    "    \n",
    "    for j in range(0, 15):\n",
    "        similarity = 0\n",
    "        # Check all of both users item lists.\n",
    "        for k in range(0, len(user_dict[user_dict_keys[i]])):\n",
    "            for l in range(0, len(user_dict[user_dict_keys[j]])):\n",
    "                if user_dict[user_dict_keys[i]][k] == user_dict[user_dict_keys[i]][m]:\n",
    "                    similarity = similarity + 1\n",
    "        \n",
    "        inner_similarity_dict[user_dict[user_dict_keys[i]]] = similarity\n",
    "        \n",
    "    similarity_dict[user_dict_keys[i]] = inner_similarity_dict"
   ]
  },
  {
   "cell_type": "code",
   "execution_count": null,
   "metadata": {},
   "outputs": [],
   "source": [
    "# v2.0 Get all the viewed content for each user\n",
    "\n",
    "user_data = pd.DataFrame(columns=[\"idUser\", \"idContent\", \"timesViewed\"])\n",
    "data_dict = {\"idUser\": \"user\", \"idContent\": \"content\", \"timesViewed\": \"viewed\"}\n",
    "user = []\n",
    "content = []\n",
    "viewed = []\n",
    "\n",
    "for i in range(0, len(data_tracking[\"idUser\"])):\n",
    "    if i == 150*10**3:\n",
    "        break\n",
    "\n",
    "    # Save & Create new user_list if this row starts a new users data.\n",
    "    if i != 0 and data_tracking[\"idUser\"].iloc[i] != data_tracking[\"idUser\"].iloc[i-1]:\n",
    "        data_dict = {\"idUser\": user, \"idContent\": content, \"timesViewed\": viewed}\n",
    "        this_user_data = pd.DataFrame.from_dict(data_dict)\n",
    "        user_data = pd.concat([user_data, this_user_data])\n",
    "        user = []\n",
    "        content = []\n",
    "        viewed = []\n",
    "    \n",
    "    item_found = False\n",
    "\n",
    "    for j in range(len(content), 0, -1):\n",
    "        if content[j-1] == data_tracking[\"idContent\"].iloc[i]:\n",
    "            viewed[j-1] += 1  \n",
    "            item_found = True\n",
    "            break\n",
    "        \n",
    "    if len(content) == 0 or item_found == False:\n",
    "        user.append(data_tracking[\"idUser\"].iloc[i]) \n",
    "        content.append(data_tracking[\"idContent\"].iloc[i]) \n",
    "        viewed.append(1)\n",
    "        \n",
    "    # save the user data frame to save time\n",
    "    user_data.to_csv(\"df_user_data.csv\")"
   ]
  },
  {
   "cell_type": "code",
   "execution_count": null,
   "metadata": {},
   "outputs": [],
   "source": [
    "# load user data from csv.\n",
    "user_data = pd.read_csv(\"df_user_data.csv\")\n",
    "user_data = user_data.drop(\"Unnamed: 0\", axis=1)"
   ]
  },
  {
   "cell_type": "code",
   "execution_count": null,
   "metadata": {
    "scrolled": true
   },
   "outputs": [],
   "source": [
    "user_data.tail(15)"
   ]
  },
  {
   "cell_type": "code",
   "execution_count": null,
   "metadata": {},
   "outputs": [],
   "source": [
    "#v1.0 find similarity for a specific user\n",
    "\n",
    "def find_similarity(userID):\n",
    "    this_user_data = user_data[user_data[\"idUser\"] == userID]\n",
    "    simililarity_dict = {}\n",
    "\n",
    "    for i in range(0, len(user_data[\"idUser\"])):\n",
    "        if user_data[\"idUser\"].iloc[i] != userID:                        \n",
    "            if user_data[\"idUser\"].iloc[i] in simililarity_dict:\n",
    "                simililarity_dict.update( {user_data[\"idUser\"].iloc[i] : round(simililarity_dict[user_data[\"idUser\"].iloc[i]] + 1/len(this_user_data[\"idContent\"]), 4)} )\n",
    "            else:\n",
    "                simililarity_dict[user_data[\"idUser\"].iloc[i]] = round(1/len(this_user_data[\"idContent\"]), 4)\n",
    "            \n",
    "    return simililarity_dict"
   ]
  },
  {
   "cell_type": "code",
   "execution_count": null,
   "metadata": {
    "scrolled": true
   },
   "outputs": [],
   "source": [
    "user_list = []\n",
    "for index, key in enumerate(user_data[\"idUser\"]):\n",
    "    if index == 25:\n",
    "        break\n",
    "    elif user_data[\"idUser\"].iloc[index] == user_data[\"idUser\"].iloc[index-1]:\n",
    "        pass\n",
    "    else:\n",
    "        print(key)\n",
    "        user_list.append(find_similarity(key))\n",
    "    \n",
    "    "
   ]
  },
  {
   "cell_type": "code",
   "execution_count": null,
   "metadata": {},
   "outputs": [],
   "source": [
    "user_list[0]"
   ]
  },
  {
   "cell_type": "code",
   "execution_count": null,
   "metadata": {},
   "outputs": [],
   "source": [
    "top_5 = heapq.nlargest(5, user_list[0], key=user_list[0].get)\n",
    "top_5"
   ]
  },
  {
   "cell_type": "code",
   "execution_count": null,
   "metadata": {},
   "outputs": [],
   "source": []
  }
 ],
 "metadata": {
  "kernelspec": {
   "display_name": "Python 3",
   "language": "python",
   "name": "python3"
  },
  "language_info": {
   "codemirror_mode": {
    "name": "ipython",
    "version": 3
   },
   "file_extension": ".py",
   "mimetype": "text/x-python",
   "name": "python",
   "nbconvert_exporter": "python",
   "pygments_lexer": "ipython3",
   "version": "3.7.3"
  }
 },
 "nbformat": 4,
 "nbformat_minor": 2
}
