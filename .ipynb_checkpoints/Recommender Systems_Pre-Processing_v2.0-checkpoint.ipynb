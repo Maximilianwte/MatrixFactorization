{
 "cells": [
  {
   "cell_type": "code",
   "execution_count": 4,
   "metadata": {},
   "outputs": [],
   "source": [
    "import pandas as pd\n",
    "import numpy as np\n",
    "import os\n",
    "import heapq\n",
    "import scipy.sparse as sparse"
   ]
  },
  {
   "cell_type": "code",
   "execution_count": 12,
   "metadata": {},
   "outputs": [],
   "source": [
    "class Pre_Processer:\n",
    "    def __init__(self):\n",
    "        self.contentType = {\"Statistic\": \"0\", \"Statista-Dossier\": \"1\", \"external Report\": \"2\", \"Industry Report\": \"3\"}\n",
    "        \n",
    "    def read_data_full(self):\n",
    "        self.data_users = pd.read_csv(\"../StatistaUsers10000.csv\")\n",
    "        self.data_tracking = pd.read_csv(\"../StatistaTracking10000.csv\")\n",
    "        \n",
    "    def read_data_tracking(self):\n",
    "        self.data_users = pd.read_csv(\"../StatistaDaten/StatistaUsers10000.csv\")\n",
    "        self.data_tracking = pd.read_excel(\"../StatistaDaten/data_tracking.xlsx\")\n",
    "        \n",
    "    def clean_data(self):        \n",
    "        data_tracking = self.data_tracking[self.data_tracking.idContent != 0]\n",
    "        data_tracking[\"fullId\"] = data_tracking.apply(lambda x: (self.contentType[x[\"contentSubType\"]] if x[\"contentSubType\"] in self.contentType else \"4\") + \"_\" + str(x[\"idContent\"] ), axis=1)\n",
    "        data_tracking[\"date\"] = data_tracking.apply(lambda x: pd.to_datetime(f\"{x.day}-{x.month}-{x.year}\"), axis=1)\n",
    "        \n",
    "        self.data_tracking = data_tracking\n",
    "        self.data_tracking.to_excel(f\"../data_tracking.xlsx\")\n",
    "        \n",
    "    def get_sample(self, fractions, i_frame):        \n",
    "        return np.array_split(self.data_tracking, fractions)[i_frame]\n",
    "    \n",
    "    def create_timesplit(self, date):\n",
    "        self.training_set = self.data_tracking[self.data_tracking.date < date]\n",
    "        self.test_set = self.data_tracking[self.data_tracking.date >= date]\n",
    "        \n",
    "    def create_matrix_sample(self, fractions = 1, i_frame = 0):\n",
    "        if fractions != 1:\n",
    "            if fractions < i_frame:\n",
    "                i_frame = fractions\n",
    "\n",
    "            self.data_tracking = self.get_sample(fractions, i_frame)\n",
    "        \n",
    "        frame = self.data_tracking[[\"idUser\", \"fullId\"]]\n",
    "        frame[\"views\"] = np.ones([len(frame[\"fullId\"]),1])\n",
    "        frame = frame.groupby(by=[\"idUser\", \"fullId\"]).sum().reset_index()\n",
    "        \n",
    "        user = list(np.sort(frame.idUser.unique()))\n",
    "        content = list(np.sort(frame.fullId.unique()))\n",
    "        views = list(frame.views)\n",
    "        rows = frame.idUser.astype('category', categories = user).cat.codes \n",
    "        cols = frame.fullId.astype('category', categories = content).cat.codes \n",
    "        \n",
    "        self.sparsity_ofdata = 1 - (len(views) / (len(content) * len(user)))\n",
    "                \n",
    "        self.matrix = sparse.csr_matrix((views, (rows, cols)), shape=(len(user), len(content)))\n",
    "        size_name = self.get_size(fractions)\n",
    "        sparse.save_npz(f\"../ratings_matrix_{self.matrix_size}_{size_name}\", self.matrix, compressed=True)\n",
    "        \n",
    "        self.matrix_asFrame = frame\n",
    "        self.matrix_asFrame.to_excel(f\"../data_{self.matrix_size}_{size_name}.xlsx\")\n",
    "        \n",
    "    def create_matrix_timesplit(self):\n",
    "        training_set = self.training_set\n",
    "        test_set = self.test_set\n",
    "        \n",
    "        # training_set\n",
    "        frame = self.training_set[[\"idUser\", \"fullId\"]]\n",
    "        frame[\"views\"] = np.ones([len(frame[\"fullId\"]),1])\n",
    "        frame = frame.groupby(by=[\"idUser\", \"fullId\"]).sum().reset_index()\n",
    "        \n",
    "        user = list(np.sort(frame.idUser.unique()))\n",
    "        content = list(np.sort(frame.fullId.unique()))\n",
    "        views = list(frame.views)\n",
    "        rows = frame.idUser.astype('category', categories = user).cat.codes \n",
    "        cols = frame.fullId.astype('category', categories = content).cat.codes \n",
    "        \n",
    "        self.sparsity_ofdata = 1 - (len(views) / (len(content) * len(user)))\n",
    "                \n",
    "        self.matrix_csr = sparse.csr_matrix((views, (rows, cols)), shape=(len(user), len(content)))\n",
    "        self.matrix_coo = sparse.coo_matrix((views, (rows, cols)), shape=(len(user), len(content)))\n",
    "        sparse.save_npz(f\"../ratings_matrix_csr\", self.matrix_csr, compressed=True)\n",
    "        sparse.save_npz(f\"../ratings_matrix_coo\", self.matrix_coo, compressed=True)\n",
    "        \n",
    "        self.training_set = frame\n",
    "        self.training_set.to_excel(f\"../training_set.xlsx\")\n",
    "        \n",
    "        # test_set\n",
    "        frame = self.test_set[[\"idUser\", \"fullId\"]]\n",
    "        frame[\"views\"] = np.ones([len(frame[\"fullId\"]),1])\n",
    "        frame = frame.groupby(by=[\"idUser\", \"fullId\"]).sum().reset_index()\n",
    "        \n",
    "        self.test_set = frame\n",
    "        self.test_set.to_excel(f\"../test_set.xlsx\")"
   ]
  },
  {
   "cell_type": "code",
   "execution_count": 13,
   "metadata": {},
   "outputs": [],
   "source": [
    "Data = Pre_Processer()"
   ]
  },
  {
   "cell_type": "code",
   "execution_count": 14,
   "metadata": {},
   "outputs": [],
   "source": [
    "Data.read_data_tracking()\n",
    "# If fractions is less than 1, the data frame is going to get divided into pieces. Only the i_frame is going to get returned.\n",
    "#Data.clean_data()\n",
    "#Data.create_matrix(fractions=1, i_frame=47)"
   ]
  },
  {
   "cell_type": "code",
   "execution_count": 24,
   "metadata": {},
   "outputs": [
    {
     "data": {
      "text/html": [
       "<div>\n",
       "<style scoped>\n",
       "    .dataframe tbody tr th:only-of-type {\n",
       "        vertical-align: middle;\n",
       "    }\n",
       "\n",
       "    .dataframe tbody tr th {\n",
       "        vertical-align: top;\n",
       "    }\n",
       "\n",
       "    .dataframe thead th {\n",
       "        text-align: right;\n",
       "    }\n",
       "</style>\n",
       "<table border=\"1\" class=\"dataframe\">\n",
       "  <thead>\n",
       "    <tr style=\"text-align: right;\">\n",
       "      <th></th>\n",
       "      <th>idUser</th>\n",
       "      <th>views</th>\n",
       "    </tr>\n",
       "  </thead>\n",
       "  <tbody>\n",
       "    <tr>\n",
       "      <th>count</th>\n",
       "      <td>502306.000000</td>\n",
       "      <td>502306.000000</td>\n",
       "    </tr>\n",
       "    <tr>\n",
       "      <th>mean</th>\n",
       "      <td>197294.130231</td>\n",
       "      <td>2.087522</td>\n",
       "    </tr>\n",
       "    <tr>\n",
       "      <th>std</th>\n",
       "      <td>92685.473566</td>\n",
       "      <td>3.632810</td>\n",
       "    </tr>\n",
       "    <tr>\n",
       "      <th>min</th>\n",
       "      <td>168.000000</td>\n",
       "      <td>1.000000</td>\n",
       "    </tr>\n",
       "    <tr>\n",
       "      <th>25%</th>\n",
       "      <td>145082.000000</td>\n",
       "      <td>1.000000</td>\n",
       "    </tr>\n",
       "    <tr>\n",
       "      <th>50%</th>\n",
       "      <td>225428.000000</td>\n",
       "      <td>1.000000</td>\n",
       "    </tr>\n",
       "    <tr>\n",
       "      <th>75%</th>\n",
       "      <td>257262.000000</td>\n",
       "      <td>2.000000</td>\n",
       "    </tr>\n",
       "    <tr>\n",
       "      <th>max</th>\n",
       "      <td>394179.000000</td>\n",
       "      <td>736.000000</td>\n",
       "    </tr>\n",
       "  </tbody>\n",
       "</table>\n",
       "</div>"
      ],
      "text/plain": [
       "              idUser          views\n",
       "count  502306.000000  502306.000000\n",
       "mean   197294.130231       2.087522\n",
       "std     92685.473566       3.632810\n",
       "min       168.000000       1.000000\n",
       "25%    145082.000000       1.000000\n",
       "50%    225428.000000       1.000000\n",
       "75%    257262.000000       2.000000\n",
       "max    394179.000000     736.000000"
      ]
     },
     "execution_count": 24,
     "metadata": {},
     "output_type": "execute_result"
    }
   ],
   "source": [
    "Data.matrix_asFrame.describe()"
   ]
  },
  {
   "cell_type": "code",
   "execution_count": 25,
   "metadata": {},
   "outputs": [
    {
     "data": {
      "text/html": [
       "<div>\n",
       "<style scoped>\n",
       "    .dataframe tbody tr th:only-of-type {\n",
       "        vertical-align: middle;\n",
       "    }\n",
       "\n",
       "    .dataframe tbody tr th {\n",
       "        vertical-align: top;\n",
       "    }\n",
       "\n",
       "    .dataframe thead th {\n",
       "        text-align: right;\n",
       "    }\n",
       "</style>\n",
       "<table border=\"1\" class=\"dataframe\">\n",
       "  <thead>\n",
       "    <tr style=\"text-align: right;\">\n",
       "      <th></th>\n",
       "      <th>idUser</th>\n",
       "      <th>fullId</th>\n",
       "      <th>views</th>\n",
       "    </tr>\n",
       "  </thead>\n",
       "  <tbody>\n",
       "    <tr>\n",
       "      <th>502301</th>\n",
       "      <td>394179</td>\n",
       "      <td>2_14881</td>\n",
       "      <td>1.0</td>\n",
       "    </tr>\n",
       "    <tr>\n",
       "      <th>502302</th>\n",
       "      <td>394179</td>\n",
       "      <td>2_3394</td>\n",
       "      <td>1.0</td>\n",
       "    </tr>\n",
       "    <tr>\n",
       "      <th>502303</th>\n",
       "      <td>394179</td>\n",
       "      <td>2_6519</td>\n",
       "      <td>1.0</td>\n",
       "    </tr>\n",
       "    <tr>\n",
       "      <th>502304</th>\n",
       "      <td>394179</td>\n",
       "      <td>2_9163</td>\n",
       "      <td>1.0</td>\n",
       "    </tr>\n",
       "    <tr>\n",
       "      <th>502305</th>\n",
       "      <td>394179</td>\n",
       "      <td>4_13110</td>\n",
       "      <td>2.0</td>\n",
       "    </tr>\n",
       "  </tbody>\n",
       "</table>\n",
       "</div>"
      ],
      "text/plain": [
       "        idUser   fullId  views\n",
       "502301  394179  2_14881    1.0\n",
       "502302  394179   2_3394    1.0\n",
       "502303  394179   2_6519    1.0\n",
       "502304  394179   2_9163    1.0\n",
       "502305  394179  4_13110    2.0"
      ]
     },
     "execution_count": 25,
     "metadata": {},
     "output_type": "execute_result"
    }
   ],
   "source": [
    "Data.matrix_asFrame.tail()"
   ]
  },
  {
   "cell_type": "code",
   "execution_count": 26,
   "metadata": {},
   "outputs": [
    {
     "data": {
      "text/html": [
       "<div>\n",
       "<style scoped>\n",
       "    .dataframe tbody tr th:only-of-type {\n",
       "        vertical-align: middle;\n",
       "    }\n",
       "\n",
       "    .dataframe tbody tr th {\n",
       "        vertical-align: top;\n",
       "    }\n",
       "\n",
       "    .dataframe thead th {\n",
       "        text-align: right;\n",
       "    }\n",
       "</style>\n",
       "<table border=\"1\" class=\"dataframe\">\n",
       "  <thead>\n",
       "    <tr style=\"text-align: right;\">\n",
       "      <th></th>\n",
       "      <th>idUser</th>\n",
       "      <th>fullId</th>\n",
       "      <th>views</th>\n",
       "    </tr>\n",
       "  </thead>\n",
       "  <tbody>\n",
       "    <tr>\n",
       "      <th>13140</th>\n",
       "      <td>5731</td>\n",
       "      <td>0_1196</td>\n",
       "      <td>1.0</td>\n",
       "    </tr>\n",
       "    <tr>\n",
       "      <th>13141</th>\n",
       "      <td>5731</td>\n",
       "      <td>0_1236</td>\n",
       "      <td>1.0</td>\n",
       "    </tr>\n",
       "    <tr>\n",
       "      <th>13142</th>\n",
       "      <td>5731</td>\n",
       "      <td>0_12528</td>\n",
       "      <td>3.0</td>\n",
       "    </tr>\n",
       "    <tr>\n",
       "      <th>13143</th>\n",
       "      <td>5731</td>\n",
       "      <td>0_12555</td>\n",
       "      <td>2.0</td>\n",
       "    </tr>\n",
       "    <tr>\n",
       "      <th>13144</th>\n",
       "      <td>5731</td>\n",
       "      <td>0_12862</td>\n",
       "      <td>5.0</td>\n",
       "    </tr>\n",
       "  </tbody>\n",
       "</table>\n",
       "</div>"
      ],
      "text/plain": [
       "       idUser   fullId  views\n",
       "13140    5731   0_1196    1.0\n",
       "13141    5731   0_1236    1.0\n",
       "13142    5731  0_12528    3.0\n",
       "13143    5731  0_12555    2.0\n",
       "13144    5731  0_12862    5.0"
      ]
     },
     "execution_count": 26,
     "metadata": {},
     "output_type": "execute_result"
    }
   ],
   "source": [
    "Data.matrix_asFrame[Data.matrix_asFrame.idUser == 5731].head()"
   ]
  },
  {
   "cell_type": "code",
   "execution_count": 27,
   "metadata": {},
   "outputs": [
    {
     "data": {
      "text/plain": [
       "array([[0., 0., 0., ..., 0., 0., 0.],\n",
       "       [0., 0., 0., ..., 0., 0., 0.],\n",
       "       [0., 0., 0., ..., 0., 0., 0.],\n",
       "       ...,\n",
       "       [0., 0., 0., ..., 0., 0., 0.],\n",
       "       [0., 0., 0., ..., 0., 0., 0.],\n",
       "       [0., 0., 0., ..., 0., 0., 0.]])"
      ]
     },
     "execution_count": 27,
     "metadata": {},
     "output_type": "execute_result"
    }
   ],
   "source": [
    "Data.matrix.toarray()"
   ]
  },
  {
   "cell_type": "code",
   "execution_count": 28,
   "metadata": {},
   "outputs": [
    {
     "data": {
      "text/plain": [
       "1048575"
      ]
     },
     "execution_count": 28,
     "metadata": {},
     "output_type": "execute_result"
    }
   ],
   "source": [
    "int(len(Data.data_tracking.idUser))"
   ]
  },
  {
   "cell_type": "code",
   "execution_count": 21,
   "metadata": {},
   "outputs": [
    {
     "name": "stderr",
     "output_type": "stream",
     "text": [
      "C:\\Users\\studsmi\\AppData\\Local\\Continuum\\anaconda3\\lib\\site-packages\\ipykernel_launcher.py:54: SettingWithCopyWarning: \n",
      "A value is trying to be set on a copy of a slice from a DataFrame.\n",
      "Try using .loc[row_indexer,col_indexer] = value instead\n",
      "\n",
      "See the caveats in the documentation: http://pandas.pydata.org/pandas-docs/stable/indexing.html#indexing-view-versus-copy\n",
      "C:\\Users\\studsmi\\AppData\\Local\\Continuum\\anaconda3\\lib\\site-packages\\ipykernel_launcher.py:2: FutureWarning: specifying 'categories' or 'ordered' in .astype() is deprecated; pass a CategoricalDtype instead\n",
      "  \n"
     ]
    }
   ],
   "source": [
    "Data.read_data_tracking()\n",
    "Data.create_matrix(fractions=1, i_frame=47)"
   ]
  },
  {
   "cell_type": "code",
   "execution_count": 29,
   "metadata": {},
   "outputs": [
    {
     "data": {
      "text/plain": [
       "0.9969177741551302"
      ]
     },
     "execution_count": 29,
     "metadata": {},
     "output_type": "execute_result"
    }
   ],
   "source": [
    "Data.sparsity_ofdata"
   ]
  },
  {
   "cell_type": "code",
   "execution_count": 30,
   "metadata": {},
   "outputs": [
    {
     "data": {
      "text/plain": [
       "0.0030822258448698348"
      ]
     },
     "execution_count": 30,
     "metadata": {},
     "output_type": "execute_result"
    }
   ],
   "source": [
    "1 - Data.sparsity_ofdata"
   ]
  },
  {
   "cell_type": "code",
   "execution_count": 16,
   "metadata": {},
   "outputs": [
    {
     "ename": "ValueError",
     "evalue": "The truth value of a Series is ambiguous. Use a.empty, a.bool(), a.item(), a.any() or a.all().",
     "output_type": "error",
     "traceback": [
      "\u001b[0;31m---------------------------------------------------------------------------\u001b[0m",
      "\u001b[0;31mValueError\u001b[0m                                Traceback (most recent call last)",
      "\u001b[0;32m<ipython-input-16-97c586464770>\u001b[0m in \u001b[0;36m<module>\u001b[0;34m\u001b[0m\n\u001b[0;32m----> 1\u001b[0;31m \u001b[0mData\u001b[0m\u001b[0;34m.\u001b[0m\u001b[0mcreate_timesplit\u001b[0m\u001b[0;34m(\u001b[0m\u001b[0;36m13\u001b[0m\u001b[0;34m,\u001b[0m \u001b[0;36m2\u001b[0m\u001b[0;34m,\u001b[0m \u001b[0;36m2017\u001b[0m\u001b[0;34m)\u001b[0m\u001b[0;34m\u001b[0m\u001b[0;34m\u001b[0m\u001b[0m\n\u001b[0m",
      "\u001b[0;32m<ipython-input-12-d7928ec9642b>\u001b[0m in \u001b[0;36mcreate_timesplit\u001b[0;34m(self, day, month, year)\u001b[0m\n\u001b[1;32m     22\u001b[0m \u001b[0;34m\u001b[0m\u001b[0m\n\u001b[1;32m     23\u001b[0m     \u001b[0;32mdef\u001b[0m \u001b[0mcreate_timesplit\u001b[0m\u001b[0;34m(\u001b[0m\u001b[0mself\u001b[0m\u001b[0;34m,\u001b[0m \u001b[0mday\u001b[0m\u001b[0;34m,\u001b[0m \u001b[0mmonth\u001b[0m\u001b[0;34m,\u001b[0m \u001b[0myear\u001b[0m\u001b[0;34m)\u001b[0m\u001b[0;34m:\u001b[0m\u001b[0;34m\u001b[0m\u001b[0;34m\u001b[0m\u001b[0m\n\u001b[0;32m---> 24\u001b[0;31m         \u001b[0mself\u001b[0m\u001b[0;34m.\u001b[0m\u001b[0mtraining_set\u001b[0m \u001b[0;34m=\u001b[0m \u001b[0mself\u001b[0m\u001b[0;34m.\u001b[0m\u001b[0mdata_tracking\u001b[0m\u001b[0;34m[\u001b[0m\u001b[0;34m(\u001b[0m\u001b[0mself\u001b[0m\u001b[0;34m.\u001b[0m\u001b[0mdata_tracking\u001b[0m\u001b[0;34m.\u001b[0m\u001b[0mday\u001b[0m \u001b[0;34m<\u001b[0m \u001b[0mday\u001b[0m \u001b[0;32mand\u001b[0m \u001b[0mself\u001b[0m\u001b[0;34m.\u001b[0m\u001b[0mdata_tracking\u001b[0m\u001b[0;34m.\u001b[0m\u001b[0mmonth\u001b[0m \u001b[0;34m==\u001b[0m \u001b[0mmonth\u001b[0m \u001b[0;32mand\u001b[0m \u001b[0mself\u001b[0m\u001b[0;34m.\u001b[0m\u001b[0mdata_tracking\u001b[0m\u001b[0;34m.\u001b[0m\u001b[0myear\u001b[0m \u001b[0;34m==\u001b[0m \u001b[0myear\u001b[0m\u001b[0;34m)\u001b[0m \u001b[0;32mor\u001b[0m \u001b[0;34m(\u001b[0m\u001b[0mself\u001b[0m\u001b[0;34m.\u001b[0m\u001b[0mdata_tracking\u001b[0m\u001b[0;34m.\u001b[0m\u001b[0mmonth\u001b[0m \u001b[0;34m<\u001b[0m \u001b[0mmonth\u001b[0m \u001b[0;32mand\u001b[0m \u001b[0mself\u001b[0m\u001b[0;34m.\u001b[0m\u001b[0mdata_tracking\u001b[0m\u001b[0;34m.\u001b[0m\u001b[0myear\u001b[0m \u001b[0;34m==\u001b[0m \u001b[0myear\u001b[0m\u001b[0;34m)\u001b[0m \u001b[0;32mor\u001b[0m \u001b[0mself\u001b[0m\u001b[0;34m.\u001b[0m\u001b[0mdata_tracking\u001b[0m\u001b[0;34m.\u001b[0m\u001b[0myear\u001b[0m \u001b[0;34m<\u001b[0m \u001b[0myear\u001b[0m\u001b[0;34m]\u001b[0m\u001b[0;34m\u001b[0m\u001b[0;34m\u001b[0m\u001b[0m\n\u001b[0m\u001b[1;32m     25\u001b[0m         \u001b[0mself\u001b[0m\u001b[0;34m.\u001b[0m\u001b[0mtest_set\u001b[0m \u001b[0;34m=\u001b[0m \u001b[0mself\u001b[0m\u001b[0;34m.\u001b[0m\u001b[0mdata_tracking\u001b[0m\u001b[0;34m[\u001b[0m\u001b[0;34m(\u001b[0m\u001b[0mself\u001b[0m\u001b[0;34m.\u001b[0m\u001b[0mdata_tracking\u001b[0m\u001b[0;34m.\u001b[0m\u001b[0mday\u001b[0m \u001b[0;34m>=\u001b[0m \u001b[0mday\u001b[0m \u001b[0;32mand\u001b[0m \u001b[0mself\u001b[0m\u001b[0;34m.\u001b[0m\u001b[0mdata_tracking\u001b[0m\u001b[0;34m.\u001b[0m\u001b[0mmonth\u001b[0m \u001b[0;34m==\u001b[0m \u001b[0mmonth\u001b[0m \u001b[0;32mand\u001b[0m \u001b[0mself\u001b[0m\u001b[0;34m.\u001b[0m\u001b[0mdata_tracking\u001b[0m\u001b[0;34m.\u001b[0m\u001b[0myear\u001b[0m \u001b[0;34m==\u001b[0m \u001b[0myear\u001b[0m\u001b[0;34m)\u001b[0m \u001b[0;32mor\u001b[0m \u001b[0;34m(\u001b[0m\u001b[0mself\u001b[0m\u001b[0;34m.\u001b[0m\u001b[0mdata_tracking\u001b[0m\u001b[0;34m.\u001b[0m\u001b[0mmonth\u001b[0m \u001b[0;34m>\u001b[0m \u001b[0mmonth\u001b[0m \u001b[0;32mand\u001b[0m \u001b[0mself\u001b[0m\u001b[0;34m.\u001b[0m\u001b[0mdata_tracking\u001b[0m\u001b[0;34m.\u001b[0m\u001b[0myear\u001b[0m \u001b[0;34m==\u001b[0m \u001b[0myear\u001b[0m\u001b[0;34m)\u001b[0m \u001b[0;32mor\u001b[0m \u001b[0mself\u001b[0m\u001b[0;34m.\u001b[0m\u001b[0mdata_tracking\u001b[0m\u001b[0;34m.\u001b[0m\u001b[0myear\u001b[0m \u001b[0;34m>\u001b[0m \u001b[0myear\u001b[0m\u001b[0;34m]\u001b[0m\u001b[0;34m\u001b[0m\u001b[0;34m\u001b[0m\u001b[0m\n\u001b[1;32m     26\u001b[0m \u001b[0;34m\u001b[0m\u001b[0m\n",
      "\u001b[0;32m~/anaconda3/lib/python3.7/site-packages/pandas/core/generic.py\u001b[0m in \u001b[0;36m__nonzero__\u001b[0;34m(self)\u001b[0m\n\u001b[1;32m   1476\u001b[0m         raise ValueError(\"The truth value of a {0} is ambiguous. \"\n\u001b[1;32m   1477\u001b[0m                          \u001b[0;34m\"Use a.empty, a.bool(), a.item(), a.any() or a.all().\"\u001b[0m\u001b[0;34m\u001b[0m\u001b[0;34m\u001b[0m\u001b[0m\n\u001b[0;32m-> 1478\u001b[0;31m                          .format(self.__class__.__name__))\n\u001b[0m\u001b[1;32m   1479\u001b[0m \u001b[0;34m\u001b[0m\u001b[0m\n\u001b[1;32m   1480\u001b[0m     \u001b[0m__bool__\u001b[0m \u001b[0;34m=\u001b[0m \u001b[0m__nonzero__\u001b[0m\u001b[0;34m\u001b[0m\u001b[0;34m\u001b[0m\u001b[0m\n",
      "\u001b[0;31mValueError\u001b[0m: The truth value of a Series is ambiguous. Use a.empty, a.bool(), a.item(), a.any() or a.all()."
     ]
    }
   ],
   "source": [
    "Data.create_timesplit(\"2018-01-01\")"
   ]
  },
  {
   "cell_type": "code",
   "execution_count": null,
   "metadata": {},
   "outputs": [],
   "source": []
  }
 ],
 "metadata": {
  "kernelspec": {
   "display_name": "Python 3",
   "language": "python",
   "name": "python3"
  },
  "language_info": {
   "codemirror_mode": {
    "name": "ipython",
    "version": 3
   },
   "file_extension": ".py",
   "mimetype": "text/x-python",
   "name": "python",
   "nbconvert_exporter": "python",
   "pygments_lexer": "ipython3",
   "version": "3.7.3"
  }
 },
 "nbformat": 4,
 "nbformat_minor": 2
}
