{
 "cells": [
  {
   "cell_type": "code",
   "execution_count": 1,
   "metadata": {},
   "outputs": [],
   "source": [
    "import pandas as pd\n",
    "import numpy as np\n",
    "import os\n",
    "import heapq\n",
    "import scipy.sparse as sparse"
   ]
  },
  {
   "cell_type": "code",
   "execution_count": 19,
   "metadata": {},
   "outputs": [],
   "source": [
    "class Pre_Processer:\n",
    "    def __init__(self):\n",
    "        self.contentType = {\"Statistic\": \"0\", \"Statista-Dossier\": \"1\", \"external Report\": \"2\", \"Industry Report\": \"3\"}\n",
    "        \n",
    "    def read_data_small(self):\n",
    "        self.matrix_size = \"500\"\n",
    "        self.data_users = pd.read_csv(\"../StatistaUsers500.csv\")\n",
    "        self.data_tracking = pd.read_csv(\"../StatistaTracking500.csv\")\n",
    "        \n",
    "    def read_data_full(self):\n",
    "        self.matrix_size = \"10000\"\n",
    "        self.data_users = pd.read_csv(\"../StatistaUsers10000.csv\")\n",
    "        self.data_tracking = pd.read_csv(\"../StatistaTracking10000.csv\")\n",
    "        \n",
    "    def read_data_tracking(self):\n",
    "        self.matrix_size = \"10000\"\n",
    "        self.data_users = pd.read_csv(\"../StatistaUsers10000.csv\")\n",
    "        self.data_tracking = pd.read_excel(\"../data_tracking.xlsx\")\n",
    "        \n",
    "    def get_size(self, fractions):\n",
    "        if fractions == 1:\n",
    "            return \"full\"\n",
    "        elif fractions == 100:\n",
    "            return \"large\"\n",
    "        elif fractions == 500:\n",
    "            return \"medium\"\n",
    "        elif fractions == 1000:\n",
    "            return \"small\"\n",
    "        elif fractions == 10000:\n",
    "            return \"extra_small\"\n",
    "        elif fractions == 25000:\n",
    "            return \"really_small\"\n",
    "        else:\n",
    "            return \"different_size\"\n",
    "        \n",
    "    def clean_data(self):        \n",
    "        data_tracking = self.data_tracking[self.data_tracking.idContent != 0]\n",
    "        data_tracking[\"fullId\"] = data_tracking.apply(lambda x: (self.contentType[x[\"contentSubType\"]] if x[\"contentSubType\"] in self.contentType else \"4\") + \"_\" + str(x[\"idContent\"] ), axis=1)\n",
    "        \n",
    "        self.data_tracking = data_tracking\n",
    "        self.data_tracking.to_excel(f\"../data_tracking.xlsx\")\n",
    "        \n",
    "    def get_sample(self, fractions, i_frame):        \n",
    "        return np.array_split(self.data_tracking, fractions)[i_frame]\n",
    "        \n",
    "    def create_matrix(self, fractions = 1, i_frame = 0):\n",
    "        if fractions != 1:\n",
    "            if fractions < i_frame:\n",
    "                i_frame = fractions\n",
    "                \n",
    "            self.data_tracking = self.get_sample(fractions, i_frame)\n",
    "        \n",
    "        frame = self.data_tracking[[\"idUser\", \"fullId\"]]\n",
    "        frame[\"views\"] = np.ones([len(frame[\"fullId\"]),1])\n",
    "        frame = frame.groupby(by=[\"idUser\", \"fullId\"]).sum().reset_index()\n",
    "        \n",
    "        user = list(np.sort(frame.idUser.unique()))\n",
    "        content = list(np.sort(frame.fullId.unique()))\n",
    "        views = list(frame.views)\n",
    "        rows = frame.idUser.astype('category', categories = user).cat.codes \n",
    "        cols = frame.fullId.astype('category', categories = content).cat.codes \n",
    "        \n",
    "        self.sparsity_ofdata = 1 - (len(views) / (len(content) * len(user)))\n",
    "                \n",
    "        self.matrix = sparse.csr_matrix((views, (rows, cols)), shape=(len(user), len(content)))\n",
    "        size_name = self.get_size(fractions)\n",
    "        sparse.save_npz(f\"../ratings_matrix_{self.matrix_size}_{size_name}\", self.matrix, compressed=True)\n",
    "        \n",
    "        self.matrix_asFrame = frame\n",
    "        self.matrix_asFrame.to_excel(f\"../data_{self.matrix_size}_{size_name}.xlsx\")"
   ]
  },
  {
   "cell_type": "code",
   "execution_count": 20,
   "metadata": {},
   "outputs": [],
   "source": [
    "Data = Pre_Processer()"
   ]
  },
  {
   "cell_type": "code",
   "execution_count": null,
   "metadata": {},
   "outputs": [],
   "source": [
    "Data.read_data_full()\n",
    "# If fractions is less than 1, the data frame is going to get divided into pieces. Only the i_frame is going to get returned.\n",
    "Data.clean_data()\n",
    "Data.create_matrix(fractions=1, i_frame=47)"
   ]
  },
  {
   "cell_type": "code",
   "execution_count": 24,
   "metadata": {},
   "outputs": [
    {
     "data": {
      "text/html": [
       "<div>\n",
       "<style scoped>\n",
       "    .dataframe tbody tr th:only-of-type {\n",
       "        vertical-align: middle;\n",
       "    }\n",
       "\n",
       "    .dataframe tbody tr th {\n",
       "        vertical-align: top;\n",
       "    }\n",
       "\n",
       "    .dataframe thead th {\n",
       "        text-align: right;\n",
       "    }\n",
       "</style>\n",
       "<table border=\"1\" class=\"dataframe\">\n",
       "  <thead>\n",
       "    <tr style=\"text-align: right;\">\n",
       "      <th></th>\n",
       "      <th>idUser</th>\n",
       "      <th>views</th>\n",
       "    </tr>\n",
       "  </thead>\n",
       "  <tbody>\n",
       "    <tr>\n",
       "      <th>count</th>\n",
       "      <td>502306.000000</td>\n",
       "      <td>502306.000000</td>\n",
       "    </tr>\n",
       "    <tr>\n",
       "      <th>mean</th>\n",
       "      <td>197294.130231</td>\n",
       "      <td>2.087522</td>\n",
       "    </tr>\n",
       "    <tr>\n",
       "      <th>std</th>\n",
       "      <td>92685.473566</td>\n",
       "      <td>3.632810</td>\n",
       "    </tr>\n",
       "    <tr>\n",
       "      <th>min</th>\n",
       "      <td>168.000000</td>\n",
       "      <td>1.000000</td>\n",
       "    </tr>\n",
       "    <tr>\n",
       "      <th>25%</th>\n",
       "      <td>145082.000000</td>\n",
       "      <td>1.000000</td>\n",
       "    </tr>\n",
       "    <tr>\n",
       "      <th>50%</th>\n",
       "      <td>225428.000000</td>\n",
       "      <td>1.000000</td>\n",
       "    </tr>\n",
       "    <tr>\n",
       "      <th>75%</th>\n",
       "      <td>257262.000000</td>\n",
       "      <td>2.000000</td>\n",
       "    </tr>\n",
       "    <tr>\n",
       "      <th>max</th>\n",
       "      <td>394179.000000</td>\n",
       "      <td>736.000000</td>\n",
       "    </tr>\n",
       "  </tbody>\n",
       "</table>\n",
       "</div>"
      ],
      "text/plain": [
       "              idUser          views\n",
       "count  502306.000000  502306.000000\n",
       "mean   197294.130231       2.087522\n",
       "std     92685.473566       3.632810\n",
       "min       168.000000       1.000000\n",
       "25%    145082.000000       1.000000\n",
       "50%    225428.000000       1.000000\n",
       "75%    257262.000000       2.000000\n",
       "max    394179.000000     736.000000"
      ]
     },
     "execution_count": 24,
     "metadata": {},
     "output_type": "execute_result"
    }
   ],
   "source": [
    "Data.matrix_asFrame.describe()"
   ]
  },
  {
   "cell_type": "code",
   "execution_count": 25,
   "metadata": {},
   "outputs": [
    {
     "data": {
      "text/html": [
       "<div>\n",
       "<style scoped>\n",
       "    .dataframe tbody tr th:only-of-type {\n",
       "        vertical-align: middle;\n",
       "    }\n",
       "\n",
       "    .dataframe tbody tr th {\n",
       "        vertical-align: top;\n",
       "    }\n",
       "\n",
       "    .dataframe thead th {\n",
       "        text-align: right;\n",
       "    }\n",
       "</style>\n",
       "<table border=\"1\" class=\"dataframe\">\n",
       "  <thead>\n",
       "    <tr style=\"text-align: right;\">\n",
       "      <th></th>\n",
       "      <th>idUser</th>\n",
       "      <th>fullId</th>\n",
       "      <th>views</th>\n",
       "    </tr>\n",
       "  </thead>\n",
       "  <tbody>\n",
       "    <tr>\n",
       "      <th>502301</th>\n",
       "      <td>394179</td>\n",
       "      <td>2_14881</td>\n",
       "      <td>1.0</td>\n",
       "    </tr>\n",
       "    <tr>\n",
       "      <th>502302</th>\n",
       "      <td>394179</td>\n",
       "      <td>2_3394</td>\n",
       "      <td>1.0</td>\n",
       "    </tr>\n",
       "    <tr>\n",
       "      <th>502303</th>\n",
       "      <td>394179</td>\n",
       "      <td>2_6519</td>\n",
       "      <td>1.0</td>\n",
       "    </tr>\n",
       "    <tr>\n",
       "      <th>502304</th>\n",
       "      <td>394179</td>\n",
       "      <td>2_9163</td>\n",
       "      <td>1.0</td>\n",
       "    </tr>\n",
       "    <tr>\n",
       "      <th>502305</th>\n",
       "      <td>394179</td>\n",
       "      <td>4_13110</td>\n",
       "      <td>2.0</td>\n",
       "    </tr>\n",
       "  </tbody>\n",
       "</table>\n",
       "</div>"
      ],
      "text/plain": [
       "        idUser   fullId  views\n",
       "502301  394179  2_14881    1.0\n",
       "502302  394179   2_3394    1.0\n",
       "502303  394179   2_6519    1.0\n",
       "502304  394179   2_9163    1.0\n",
       "502305  394179  4_13110    2.0"
      ]
     },
     "execution_count": 25,
     "metadata": {},
     "output_type": "execute_result"
    }
   ],
   "source": [
    "Data.matrix_asFrame.tail()"
   ]
  },
  {
   "cell_type": "code",
   "execution_count": 26,
   "metadata": {},
   "outputs": [
    {
     "data": {
      "text/html": [
       "<div>\n",
       "<style scoped>\n",
       "    .dataframe tbody tr th:only-of-type {\n",
       "        vertical-align: middle;\n",
       "    }\n",
       "\n",
       "    .dataframe tbody tr th {\n",
       "        vertical-align: top;\n",
       "    }\n",
       "\n",
       "    .dataframe thead th {\n",
       "        text-align: right;\n",
       "    }\n",
       "</style>\n",
       "<table border=\"1\" class=\"dataframe\">\n",
       "  <thead>\n",
       "    <tr style=\"text-align: right;\">\n",
       "      <th></th>\n",
       "      <th>idUser</th>\n",
       "      <th>fullId</th>\n",
       "      <th>views</th>\n",
       "    </tr>\n",
       "  </thead>\n",
       "  <tbody>\n",
       "    <tr>\n",
       "      <th>13140</th>\n",
       "      <td>5731</td>\n",
       "      <td>0_1196</td>\n",
       "      <td>1.0</td>\n",
       "    </tr>\n",
       "    <tr>\n",
       "      <th>13141</th>\n",
       "      <td>5731</td>\n",
       "      <td>0_1236</td>\n",
       "      <td>1.0</td>\n",
       "    </tr>\n",
       "    <tr>\n",
       "      <th>13142</th>\n",
       "      <td>5731</td>\n",
       "      <td>0_12528</td>\n",
       "      <td>3.0</td>\n",
       "    </tr>\n",
       "    <tr>\n",
       "      <th>13143</th>\n",
       "      <td>5731</td>\n",
       "      <td>0_12555</td>\n",
       "      <td>2.0</td>\n",
       "    </tr>\n",
       "    <tr>\n",
       "      <th>13144</th>\n",
       "      <td>5731</td>\n",
       "      <td>0_12862</td>\n",
       "      <td>5.0</td>\n",
       "    </tr>\n",
       "  </tbody>\n",
       "</table>\n",
       "</div>"
      ],
      "text/plain": [
       "       idUser   fullId  views\n",
       "13140    5731   0_1196    1.0\n",
       "13141    5731   0_1236    1.0\n",
       "13142    5731  0_12528    3.0\n",
       "13143    5731  0_12555    2.0\n",
       "13144    5731  0_12862    5.0"
      ]
     },
     "execution_count": 26,
     "metadata": {},
     "output_type": "execute_result"
    }
   ],
   "source": [
    "Data.matrix_asFrame[Data.matrix_asFrame.idUser == 5731].head()"
   ]
  },
  {
   "cell_type": "code",
   "execution_count": 27,
   "metadata": {},
   "outputs": [
    {
     "data": {
      "text/plain": [
       "array([[0., 0., 0., ..., 0., 0., 0.],\n",
       "       [0., 0., 0., ..., 0., 0., 0.],\n",
       "       [0., 0., 0., ..., 0., 0., 0.],\n",
       "       ...,\n",
       "       [0., 0., 0., ..., 0., 0., 0.],\n",
       "       [0., 0., 0., ..., 0., 0., 0.],\n",
       "       [0., 0., 0., ..., 0., 0., 0.]])"
      ]
     },
     "execution_count": 27,
     "metadata": {},
     "output_type": "execute_result"
    }
   ],
   "source": [
    "Data.matrix.toarray()"
   ]
  },
  {
   "cell_type": "code",
   "execution_count": 28,
   "metadata": {},
   "outputs": [
    {
     "data": {
      "text/plain": [
       "1048575"
      ]
     },
     "execution_count": 28,
     "metadata": {},
     "output_type": "execute_result"
    }
   ],
   "source": [
    "int(len(Data.data_tracking.idUser))"
   ]
  },
  {
   "cell_type": "code",
   "execution_count": 21,
   "metadata": {},
   "outputs": [
    {
     "name": "stderr",
     "output_type": "stream",
     "text": [
      "C:\\Users\\studsmi\\AppData\\Local\\Continuum\\anaconda3\\lib\\site-packages\\ipykernel_launcher.py:54: SettingWithCopyWarning: \n",
      "A value is trying to be set on a copy of a slice from a DataFrame.\n",
      "Try using .loc[row_indexer,col_indexer] = value instead\n",
      "\n",
      "See the caveats in the documentation: http://pandas.pydata.org/pandas-docs/stable/indexing.html#indexing-view-versus-copy\n",
      "C:\\Users\\studsmi\\AppData\\Local\\Continuum\\anaconda3\\lib\\site-packages\\ipykernel_launcher.py:2: FutureWarning: specifying 'categories' or 'ordered' in .astype() is deprecated; pass a CategoricalDtype instead\n",
      "  \n"
     ]
    }
   ],
   "source": [
    "Data.read_data_tracking()\n",
    "Data.create_matrix(fractions=1, i_frame=47)"
   ]
  },
  {
   "cell_type": "code",
   "execution_count": 29,
   "metadata": {},
   "outputs": [
    {
     "data": {
      "text/plain": [
       "0.9969177741551302"
      ]
     },
     "execution_count": 29,
     "metadata": {},
     "output_type": "execute_result"
    }
   ],
   "source": [
    "Data.sparsity_ofdata"
   ]
  },
  {
   "cell_type": "code",
   "execution_count": 30,
   "metadata": {},
   "outputs": [
    {
     "data": {
      "text/plain": [
       "0.0030822258448698348"
      ]
     },
     "execution_count": 30,
     "metadata": {},
     "output_type": "execute_result"
    }
   ],
   "source": [
    "1 - Data.sparsity_ofdata"
   ]
  },
  {
   "cell_type": "code",
   "execution_count": null,
   "metadata": {},
   "outputs": [],
   "source": []
  }
 ],
 "metadata": {
  "kernelspec": {
   "display_name": "Python 3",
   "language": "python",
   "name": "python3"
  }
 },
 "nbformat": 4,
 "nbformat_minor": 2
}
