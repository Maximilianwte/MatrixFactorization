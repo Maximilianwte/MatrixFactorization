{
 "cells": [
  {
   "cell_type": "code",
   "execution_count": 28,
   "metadata": {},
   "outputs": [],
   "source": [
    "import pandas as pd\n",
    "import numpy as np\n",
    "import os\n",
    "import heapq\n",
    "import scipy.sparse as sparse"
   ]
  },
  {
   "cell_type": "code",
   "execution_count": 34,
   "metadata": {},
   "outputs": [],
   "source": [
    "class Pre_Processer:\n",
    "    def read_data_small(self):\n",
    "        self.matrix_size = \"500\"\n",
    "        self.data_users = pd.read_csv(\"../StatistaUsers500.csv\")\n",
    "        self.data_tracking = pd.read_csv(\"../StatistaTracking500.csv\")\n",
    "        \n",
    "    def read_data_full(self):\n",
    "        self.matrix_size = \"10000\"\n",
    "        self.data_users = pd.read_csv(\"../StatistaUsers10000.csv\")\n",
    "        self.data_tracking = pd.read_csv(\"../StatistaTracking10000.csv\")\n",
    "        \n",
    "    def get_size(self, fractions):\n",
    "        if fractions == 1:\n",
    "            return \"full\"\n",
    "        elif fractions == 100:\n",
    "            return \"large\"\n",
    "        elif fractions == 500:\n",
    "            return \"medium\"\n",
    "        elif fractions == 1000:\n",
    "            return \"small\"\n",
    "        elif fractions == 10000:\n",
    "            return \"extra_small\"\n",
    "        elif fractions == 25000:\n",
    "            return \"really_small\"\n",
    "        else:\n",
    "            return \"different_size\"\n",
    "        \n",
    "    def get_sample(self, fractions, i_frame):        \n",
    "        return np.array_split(self.data_tracking, fractions)[i_frame]\n",
    "        \n",
    "    def create_matrix(self, fractions, i_frame = 0):\n",
    "        if fractions != 1:\n",
    "            if fractions < i_frame:\n",
    "                i_frame = fractions\n",
    "                \n",
    "            self.data_tracking = self.get_sample(fractions, i_frame)\n",
    "        \n",
    "        frame = self.data_tracking[[\"idUser\", \"idContent\"]]\n",
    "        frame[\"views\"] = np.ones([len(frame[\"idContent\"]),1])\n",
    "        frame = frame.groupby(by=[\"idUser\", \"idContent\"]).sum().reset_index()\n",
    "        \n",
    "        user = list(np.sort(frame.idUser.unique()))\n",
    "        content = list(np.sort(frame.idContent.unique()))\n",
    "        views = list(frame.views)\n",
    "        rows = frame.idUser.astype('category', categories = user).cat.codes \n",
    "        cols = frame.idContent.astype('category', categories = content).cat.codes \n",
    "        \n",
    "        self.sparsity_ofdata = 1 - (len(views) / (len(content) * len(user)))\n",
    "                \n",
    "        self.matrix = sparse.csr_matrix((views, (rows, cols)), shape=(len(user), len(content)))\n",
    "        size_name = self.get_size(fractions)\n",
    "        sparse.save_npz(f\"../ratings_matrix_{self.matrix_size}_{size_name}\", self.matrix, compressed=True)\n",
    "        \n",
    "        self.matrix_asFrame = frame\n",
    "        self.matrix_asFrame.to_excel(f\"../data_{self.matrix_size}_{size_name}.xlsx\")"
   ]
  },
  {
   "cell_type": "code",
   "execution_count": 30,
   "metadata": {},
   "outputs": [],
   "source": [
    "Data = Pre_Processer()"
   ]
  },
  {
   "cell_type": "code",
   "execution_count": 35,
   "metadata": {},
   "outputs": [
    {
     "name": "stderr",
     "output_type": "stream",
     "text": [
      "C:\\Users\\studsmi\\AppData\\Local\\Continuum\\anaconda3\\lib\\site-packages\\ipykernel_launcher.py:34: SettingWithCopyWarning: \n",
      "A value is trying to be set on a copy of a slice from a DataFrame.\n",
      "Try using .loc[row_indexer,col_indexer] = value instead\n",
      "\n",
      "See the caveats in the documentation: http://pandas.pydata.org/pandas-docs/stable/indexing.html#indexing-view-versus-copy\n",
      "C:\\Users\\studsmi\\AppData\\Local\\Continuum\\anaconda3\\lib\\site-packages\\ipykernel_launcher.py:3: FutureWarning: specifying 'categories' or 'ordered' in .astype() is deprecated; pass a CategoricalDtype instead\n",
      "  This is separate from the ipykernel package so we can avoid doing imports until\n"
     ]
    }
   ],
   "source": [
    "Data.read_data_full()\n",
    "# If fractions is less than 1, the data frame is going to get divided into pieces. Only the i_frame is going to get returned.\n",
    "Data.create_matrix(fractions=25000, i_frame=7560)"
   ]
  },
  {
   "cell_type": "code",
   "execution_count": 99,
   "metadata": {},
   "outputs": [
    {
     "data": {
      "text/html": [
       "<div>\n",
       "<style scoped>\n",
       "    .dataframe tbody tr th:only-of-type {\n",
       "        vertical-align: middle;\n",
       "    }\n",
       "\n",
       "    .dataframe tbody tr th {\n",
       "        vertical-align: top;\n",
       "    }\n",
       "\n",
       "    .dataframe thead th {\n",
       "        text-align: right;\n",
       "    }\n",
       "</style>\n",
       "<table border=\"1\" class=\"dataframe\">\n",
       "  <thead>\n",
       "    <tr style=\"text-align: right;\">\n",
       "      <th></th>\n",
       "      <th>idUser</th>\n",
       "      <th>idContent</th>\n",
       "      <th>views</th>\n",
       "    </tr>\n",
       "  </thead>\n",
       "  <tbody>\n",
       "    <tr>\n",
       "      <th>count</th>\n",
       "      <td>424911.000000</td>\n",
       "      <td>4.249110e+05</td>\n",
       "      <td>424911.000000</td>\n",
       "    </tr>\n",
       "    <tr>\n",
       "      <th>mean</th>\n",
       "      <td>96176.332578</td>\n",
       "      <td>3.104636e+05</td>\n",
       "      <td>3.809744</td>\n",
       "    </tr>\n",
       "    <tr>\n",
       "      <th>std</th>\n",
       "      <td>38568.482843</td>\n",
       "      <td>1.813573e+06</td>\n",
       "      <td>49.548521</td>\n",
       "    </tr>\n",
       "    <tr>\n",
       "      <th>min</th>\n",
       "      <td>5731.000000</td>\n",
       "      <td>0.000000e+00</td>\n",
       "      <td>1.000000</td>\n",
       "    </tr>\n",
       "    <tr>\n",
       "      <th>25%</th>\n",
       "      <td>64433.000000</td>\n",
       "      <td>5.690200e+04</td>\n",
       "      <td>1.000000</td>\n",
       "    </tr>\n",
       "    <tr>\n",
       "      <th>50%</th>\n",
       "      <td>121126.000000</td>\n",
       "      <td>1.947490e+05</td>\n",
       "      <td>2.000000</td>\n",
       "    </tr>\n",
       "    <tr>\n",
       "      <th>75%</th>\n",
       "      <td>121480.000000</td>\n",
       "      <td>3.256560e+05</td>\n",
       "      <td>3.000000</td>\n",
       "    </tr>\n",
       "    <tr>\n",
       "      <th>max</th>\n",
       "      <td>331436.000000</td>\n",
       "      <td>9.006080e+07</td>\n",
       "      <td>15666.000000</td>\n",
       "    </tr>\n",
       "  </tbody>\n",
       "</table>\n",
       "</div>"
      ],
      "text/plain": [
       "              idUser     idContent          views\n",
       "count  424911.000000  4.249110e+05  424911.000000\n",
       "mean    96176.332578  3.104636e+05       3.809744\n",
       "std     38568.482843  1.813573e+06      49.548521\n",
       "min      5731.000000  0.000000e+00       1.000000\n",
       "25%     64433.000000  5.690200e+04       1.000000\n",
       "50%    121126.000000  1.947490e+05       2.000000\n",
       "75%    121480.000000  3.256560e+05       3.000000\n",
       "max    331436.000000  9.006080e+07   15666.000000"
      ]
     },
     "execution_count": 99,
     "metadata": {},
     "output_type": "execute_result"
    }
   ],
   "source": [
    "Data.matrix_asFrame.describe()"
   ]
  },
  {
   "cell_type": "code",
   "execution_count": 36,
   "metadata": {},
   "outputs": [
    {
     "data": {
      "text/html": [
       "<div>\n",
       "<style scoped>\n",
       "    .dataframe tbody tr th:only-of-type {\n",
       "        vertical-align: middle;\n",
       "    }\n",
       "\n",
       "    .dataframe tbody tr th {\n",
       "        vertical-align: top;\n",
       "    }\n",
       "\n",
       "    .dataframe thead th {\n",
       "        text-align: right;\n",
       "    }\n",
       "</style>\n",
       "<table border=\"1\" class=\"dataframe\">\n",
       "  <thead>\n",
       "    <tr style=\"text-align: right;\">\n",
       "      <th></th>\n",
       "      <th>idUser</th>\n",
       "      <th>idContent</th>\n",
       "      <th>views</th>\n",
       "    </tr>\n",
       "  </thead>\n",
       "  <tbody>\n",
       "    <tr>\n",
       "      <th>1252</th>\n",
       "      <td>343814</td>\n",
       "      <td>77637</td>\n",
       "      <td>1.0</td>\n",
       "    </tr>\n",
       "    <tr>\n",
       "      <th>1253</th>\n",
       "      <td>343814</td>\n",
       "      <td>157928</td>\n",
       "      <td>1.0</td>\n",
       "    </tr>\n",
       "    <tr>\n",
       "      <th>1254</th>\n",
       "      <td>343814</td>\n",
       "      <td>188178</td>\n",
       "      <td>1.0</td>\n",
       "    </tr>\n",
       "    <tr>\n",
       "      <th>1255</th>\n",
       "      <td>351668</td>\n",
       "      <td>198095</td>\n",
       "      <td>1.0</td>\n",
       "    </tr>\n",
       "    <tr>\n",
       "      <th>1256</th>\n",
       "      <td>365141</td>\n",
       "      <td>1885</td>\n",
       "      <td>1.0</td>\n",
       "    </tr>\n",
       "  </tbody>\n",
       "</table>\n",
       "</div>"
      ],
      "text/plain": [
       "      idUser  idContent  views\n",
       "1252  343814      77637    1.0\n",
       "1253  343814     157928    1.0\n",
       "1254  343814     188178    1.0\n",
       "1255  351668     198095    1.0\n",
       "1256  365141       1885    1.0"
      ]
     },
     "execution_count": 36,
     "metadata": {},
     "output_type": "execute_result"
    }
   ],
   "source": [
    "Data.matrix_asFrame.tail()"
   ]
  },
  {
   "cell_type": "code",
   "execution_count": 101,
   "metadata": {},
   "outputs": [
    {
     "data": {
      "text/html": [
       "<div>\n",
       "<style scoped>\n",
       "    .dataframe tbody tr th:only-of-type {\n",
       "        vertical-align: middle;\n",
       "    }\n",
       "\n",
       "    .dataframe tbody tr th {\n",
       "        vertical-align: top;\n",
       "    }\n",
       "\n",
       "    .dataframe thead th {\n",
       "        text-align: right;\n",
       "    }\n",
       "</style>\n",
       "<table border=\"1\" class=\"dataframe\">\n",
       "  <thead>\n",
       "    <tr style=\"text-align: right;\">\n",
       "      <th></th>\n",
       "      <th>idUser</th>\n",
       "      <th>idContent</th>\n",
       "      <th>views</th>\n",
       "    </tr>\n",
       "  </thead>\n",
       "  <tbody>\n",
       "    <tr>\n",
       "      <th>0</th>\n",
       "      <td>5731</td>\n",
       "      <td>0</td>\n",
       "      <td>12759.0</td>\n",
       "    </tr>\n",
       "    <tr>\n",
       "      <th>1</th>\n",
       "      <td>5731</td>\n",
       "      <td>1</td>\n",
       "      <td>1.0</td>\n",
       "    </tr>\n",
       "    <tr>\n",
       "      <th>2</th>\n",
       "      <td>5731</td>\n",
       "      <td>5</td>\n",
       "      <td>1.0</td>\n",
       "    </tr>\n",
       "    <tr>\n",
       "      <th>3</th>\n",
       "      <td>5731</td>\n",
       "      <td>17</td>\n",
       "      <td>24.0</td>\n",
       "    </tr>\n",
       "    <tr>\n",
       "      <th>4</th>\n",
       "      <td>5731</td>\n",
       "      <td>18</td>\n",
       "      <td>1.0</td>\n",
       "    </tr>\n",
       "  </tbody>\n",
       "</table>\n",
       "</div>"
      ],
      "text/plain": [
       "   idUser  idContent    views\n",
       "0    5731          0  12759.0\n",
       "1    5731          1      1.0\n",
       "2    5731          5      1.0\n",
       "3    5731         17     24.0\n",
       "4    5731         18      1.0"
      ]
     },
     "execution_count": 101,
     "metadata": {},
     "output_type": "execute_result"
    }
   ],
   "source": [
    "Data.matrix_asFrame[Data.matrix_asFrame.idUser == 5731].head()"
   ]
  },
  {
   "cell_type": "code",
   "execution_count": 37,
   "metadata": {},
   "outputs": [
    {
     "data": {
      "text/plain": [
       "array([[0., 0., 0., ..., 0., 0., 0.],\n",
       "       [0., 0., 0., ..., 0., 0., 0.],\n",
       "       [0., 0., 0., ..., 0., 0., 0.],\n",
       "       ...,\n",
       "       [0., 0., 0., ..., 0., 0., 0.],\n",
       "       [0., 0., 0., ..., 0., 0., 0.],\n",
       "       [0., 0., 0., ..., 0., 0., 0.]])"
      ]
     },
     "execution_count": 37,
     "metadata": {},
     "output_type": "execute_result"
    }
   ],
   "source": [
    "Data.matrix.toarray()"
   ]
  },
  {
   "cell_type": "code",
   "execution_count": 17,
   "metadata": {},
   "outputs": [
    {
     "data": {
      "text/plain": [
       "1618802"
      ]
     },
     "execution_count": 17,
     "metadata": {},
     "output_type": "execute_result"
    }
   ],
   "source": [
    "int(len(Data.data_tracking.idUser))"
   ]
  },
  {
   "cell_type": "code",
   "execution_count": null,
   "metadata": {},
   "outputs": [],
   "source": []
  }
 ],
 "metadata": {
  "kernelspec": {
   "display_name": "Python 3",
   "language": "python",
   "name": "python3"
  },
  "language_info": {
   "codemirror_mode": {
    "name": "ipython",
    "version": 3
   },
   "file_extension": ".py",
   "mimetype": "text/x-python",
   "name": "python",
   "nbconvert_exporter": "python",
   "pygments_lexer": "ipython3",
   "version": "3.7.3"
  }
 },
 "nbformat": 4,
 "nbformat_minor": 2
}
