{
 "cells": [
  {
   "cell_type": "markdown",
   "metadata": {},
   "source": [
    "## Pre-Processing v3.0\n",
    "### Vectorized.\n"
   ]
  },
  {
   "cell_type": "code",
   "execution_count": 1,
   "metadata": {},
   "outputs": [],
   "source": [
    "import pandas as pd\n",
    "import numpy as np\n",
    "import os\n",
    "import heapq\n",
    "import scipy.sparse as sparse"
   ]
  },
  {
   "cell_type": "code",
   "execution_count": 18,
   "metadata": {},
   "outputs": [],
   "source": [
    "class Pre_Processer:\n",
    "    def __init__(self):\n",
    "        self.contentType = {\"Statistic\": \"0\", \"Statista-Dossier\": \"1\", \"external Report\": \"2\", \"Industry Report\": \"3\"}\n",
    "        \n",
    "    def read_data_full(self):\n",
    "        self.data_users = pd.read_csv(\"../StatistaUsers10000.csv\")\n",
    "        self.data_tracking = pd.read_csv(\"../StatistaTracking10000.csv\")\n",
    "\n",
    "        return self.data_users, self.data_tracking\n",
    "    \n",
    "    def read_pickles(self):\n",
    "        self.training_set = pd.read_pickle(f\"../training_set.pkl\", compression=\"zip\")\n",
    "        self.test_set = pd.read_pickle(f\"../test_set.pkl\", compression=\"zip\")\n",
    "        \n",
    "        return self.training_set, self.test_set\n",
    "    \n",
    "    def generate_fullID_vectorized(self, subType, contentId):\n",
    "        array = []\n",
    "        for i in range(len(subType)):\n",
    "            array.append((self.contentType[subType[i]] if subType[i] in self.contentType else \"4\") + \"_\" + str(contentId[i]))\n",
    "\n",
    "        return array\n",
    "    \n",
    "    def clean_tracking(self, tracking_data, start_year = 2017, end_date = None):\n",
    "        data = tracking_data[tracking_data.idContent != 0]\n",
    "        data = data.iloc[:, 0:6]\n",
    "        data = data[data.year >= start_year]\n",
    "        data[\"date\"] = data['year'].astype(str) + \"-\" + data['month'].astype(str) + \"-\" + data[\"day\"].astype(str)\n",
    "        if end_date != None:\n",
    "            data = data[data.date <= end_date]\n",
    "        data[\"fullId\"] = self.generate_fullID_vectorized(data[\"contentSubType\"].values, data[\"idContent\"].values)\n",
    "\n",
    "        self.data_tracking = data\n",
    "        data.to_pickle(f\"../data_tracking.pkl\", compression=\"zip\")\n",
    "        return data\n",
    "    \n",
    "    def create_timesplit(self, data, date):\n",
    "        self.training_set = data[data.date < date]\n",
    "        self.test_set = data[data.date >= date]\n",
    "        \n",
    "        self.training_set.to_pickle(f\"../training_set.pkl\", compression=\"zip\")\n",
    "        self.test_set.to_pickle(f\"../test_set.pkl\", compression=\"zip\")\n",
    "        return self.training_set, self.test_set\n",
    "    \n",
    "    def create_matrices(self, training_set, test_set):\n",
    "        # training_set\n",
    "        frame = training_set[[\"idUser\", \"fullId\"]]\n",
    "        frame[\"views\"] = np.ones([len(frame[\"fullId\"]),1])\n",
    "        frame = frame.groupby(by=[\"idUser\", \"fullId\"]).sum().reset_index()\n",
    "\n",
    "        user = list(np.sort(frame.idUser.unique()))\n",
    "        content = list(np.sort(frame.fullId.unique()))\n",
    "        views = list(frame.views)\n",
    "        rows = frame.idUser.astype('category').cat.codes \n",
    "        cols = frame.fullId.astype('category').cat.codes \n",
    "        \n",
    "        self.sparsity_ofdata = 1 - (len(views) / (len(content) * len(user)))\n",
    "\n",
    "        matrix_csr = sparse.csr_matrix((views, (rows, cols)), shape=(len(user), len(content)))\n",
    "        matrix_coo = sparse.coo_matrix((views, (rows, cols)), shape=(len(user), len(content)))\n",
    "        sparse.save_npz(f\"../ratings_matrix_csr\", matrix_csr, compressed=True)\n",
    "        sparse.save_npz(f\"../ratings_matrix_coo\", matrix_coo, compressed=True)\n",
    "\n",
    "        training_set = frame\n",
    "        self.training_set.to_pickle(f\"../training_set_aggregated.pkl\", compression=\"zip\")\n",
    "        \n",
    "        self.matrix_csr = matrix_csr\n",
    "        self.matrix_coo = matrix_coo\n",
    "        \n",
    "        self.user = user\n",
    "        self.content = content\n",
    "        self.views = views\n",
    "        self.rows = rows\n",
    "        self.cols = cols\n",
    "        \n",
    "        np.save(\"../user_ids\", user)\n",
    "        np.save(\"../content_ids\", content)\n",
    "\n",
    "        # test_set\n",
    "        \"\"\"frame = test_set.sort_values(by='date')\n",
    "        frame = frame[[\"idUser\", \"fullId\"]]\n",
    "        frame[\"views\"] = np.ones([len(frame[\"fullId\"]),1])\n",
    "        frame = frame.groupby(by=[\"idUser\", \"fullId\"]).sum().reset_index()\n",
    "\n",
    "\n",
    "        test_set = frame\n",
    "        #test_set.to_excel(f\"../test_set.xlsx\")\n",
    "        test_set.to_pickle(f\"../test_set\")\"\"\""
   ]
  },
  {
   "cell_type": "markdown",
   "metadata": {},
   "source": [
    "### Pre Processing run:"
   ]
  },
  {
   "cell_type": "code",
   "execution_count": 19,
   "metadata": {},
   "outputs": [],
   "source": [
    "Data = Pre_Processer()"
   ]
  },
  {
   "cell_type": "code",
   "execution_count": 20,
   "metadata": {},
   "outputs": [],
   "source": [
    "user_data, data_tracking = Data.read_data_full()"
   ]
  },
  {
   "cell_type": "code",
   "execution_count": 21,
   "metadata": {},
   "outputs": [],
   "source": [
    "data_tracking = Data.clean_tracking(data_tracking, start_year=2017, end_date = \"2019-7-31\")"
   ]
  },
  {
   "cell_type": "code",
   "execution_count": null,
   "metadata": {},
   "outputs": [
    {
     "name": "stderr",
     "output_type": "stream",
     "text": [
      "C:\\Users\\studsmi\\AppData\\Local\\Continuum\\anaconda3\\lib\\site-packages\\ipykernel_launcher.py:48: SettingWithCopyWarning: \n",
      "A value is trying to be set on a copy of a slice from a DataFrame.\n",
      "Try using .loc[row_indexer,col_indexer] = value instead\n",
      "\n",
      "See the caveats in the documentation: http://pandas.pydata.org/pandas-docs/stable/indexing.html#indexing-view-versus-copy\n"
     ]
    }
   ],
   "source": [
    "training_set, test_set = Data.create_timesplit(data_tracking, \"2019-7-1\")\n",
    "Data.create_matrices(training_set, test_set)"
   ]
  },
  {
   "cell_type": "markdown",
   "metadata": {},
   "source": [
    "#### Load Pickles:"
   ]
  },
  {
   "cell_type": "code",
   "execution_count": 10,
   "metadata": {},
   "outputs": [],
   "source": [
    "training_set, test_set = Data.read_pickles()"
   ]
  },
  {
   "cell_type": "markdown",
   "metadata": {},
   "source": [
    "### Analysis:"
   ]
  },
  {
   "cell_type": "code",
   "execution_count": null,
   "metadata": {},
   "outputs": [],
   "source": [
    "data_tracking.describe()"
   ]
  },
  {
   "cell_type": "code",
   "execution_count": null,
   "metadata": {},
   "outputs": [],
   "source": [
    "data_tracking.tail()"
   ]
  },
  {
   "cell_type": "code",
   "execution_count": null,
   "metadata": {},
   "outputs": [],
   "source": [
    "data_tracking[data_tracking.idUser == 5731].head()"
   ]
  },
  {
   "cell_type": "code",
   "execution_count": null,
   "metadata": {},
   "outputs": [],
   "source": [
    "int(len(data_tracking.idUser))"
   ]
  },
  {
   "cell_type": "code",
   "execution_count": 16,
   "metadata": {},
   "outputs": [
    {
     "data": {
      "text/plain": [
       "0.9921601970895453"
      ]
     },
     "execution_count": 16,
     "metadata": {},
     "output_type": "execute_result"
    }
   ],
   "source": [
    "Data.sparsity_ofdata"
   ]
  },
  {
   "cell_type": "code",
   "execution_count": 17,
   "metadata": {},
   "outputs": [
    {
     "data": {
      "text/plain": [
       "0.007839802910454718"
      ]
     },
     "execution_count": 17,
     "metadata": {},
     "output_type": "execute_result"
    }
   ],
   "source": [
    "1 - Data.sparsity_ofdata"
   ]
  },
  {
   "cell_type": "code",
   "execution_count": null,
   "metadata": {},
   "outputs": [],
   "source": [
    "\"10 Mio. Zeilen\"\n",
    "voller_datensatz = 10019879\n",
    "\"1.54 Mio. Zeilen\"\n",
    "n_test_april = 1543999"
   ]
  },
  {
   "cell_type": "code",
   "execution_count": null,
   "metadata": {},
   "outputs": [],
   "source": [
    "n_test_april / voller_datensatz"
   ]
  },
  {
   "cell_type": "code",
   "execution_count": 13,
   "metadata": {},
   "outputs": [
    {
     "data": {
      "text/plain": [
       "0.12358672501015389"
      ]
     },
     "execution_count": 13,
     "metadata": {},
     "output_type": "execute_result"
    }
   ],
   "source": [
    "len(test_set.day) / len(training_set.day) "
   ]
  },
  {
   "cell_type": "code",
   "execution_count": 19,
   "metadata": {},
   "outputs": [
    {
     "data": {
      "text/plain": [
       "array([[0., 0., 0., ..., 0., 0., 0.],\n",
       "       [0., 0., 0., ..., 0., 0., 0.],\n",
       "       [0., 0., 0., ..., 0., 0., 0.],\n",
       "       ...,\n",
       "       [0., 0., 0., ..., 0., 0., 0.],\n",
       "       [0., 0., 0., ..., 0., 0., 0.],\n",
       "       [0., 0., 0., ..., 0., 0., 0.]])"
      ]
     },
     "execution_count": 19,
     "metadata": {},
     "output_type": "execute_result"
    }
   ],
   "source": [
    "Data.matrix_csr.toarray()[indexUser][indexContent]"
   ]
  },
  {
   "cell_type": "code",
   "execution_count": null,
   "metadata": {},
   "outputs": [],
   "source": [
    "df = training_set[[\"idUser\", \"fullId\"]]\n",
    "df[\"views\"] = np.ones([len(df[\"fullId\"]),1])\n",
    "df = df.groupby(by=[\"idUser\", \"fullId\"]).sum().reset_index()"
   ]
  },
  {
   "cell_type": "code",
   "execution_count": null,
   "metadata": {},
   "outputs": [],
   "source": [
    "user = np.sort(df.idUser.unique())\n",
    "content = np.sort(df.fullId.unique())\n",
    "views = list(df.views)\n",
    "rows = df.idUser.astype('category', categories = user).cat.codes \n",
    "cols = df.fullId.astype('category', categories = content).cat.codes "
   ]
  },
  {
   "cell_type": "code",
   "execution_count": 161,
   "metadata": {},
   "outputs": [],
   "source": [
    "indxUser = np.where(user==699743)[0][0]\n",
    "indxContent = np.where(content==\"4_9817\")[0][0]"
   ]
  },
  {
   "cell_type": "code",
   "execution_count": null,
   "metadata": {},
   "outputs": [],
   "source": [
    "matrix_csr = sparse.csr_matrix((views, (rows, cols)), shape=(len(user), len(content)))\n",
    "matrix_coo = sparse.coo_matrix((views, (rows, cols)), shape=(len(user), len(content)))"
   ]
  },
  {
   "cell_type": "code",
   "execution_count": 162,
   "metadata": {},
   "outputs": [
    {
     "data": {
      "text/plain": [
       "6.0"
      ]
     },
     "execution_count": 162,
     "metadata": {},
     "output_type": "execute_result"
    }
   ],
   "source": [
    "matrix_csr.toarray()[indxUser][indxContent]"
   ]
  },
  {
   "cell_type": "code",
   "execution_count": 166,
   "metadata": {},
   "outputs": [
    {
     "data": {
      "text/plain": [
       "(851, 436710)"
      ]
     },
     "execution_count": 166,
     "metadata": {},
     "output_type": "execute_result"
    }
   ],
   "source": [
    "matrix_csr.toarray().shape"
   ]
  },
  {
   "cell_type": "code",
   "execution_count": null,
   "metadata": {},
   "outputs": [],
   "source": []
  }
 ],
 "metadata": {
  "kernelspec": {
   "display_name": "Python 3",
   "language": "python",
   "name": "python3"
  },
  "language_info": {
   "codemirror_mode": {
    "name": "ipython",
    "version": 3
   },
   "file_extension": ".py",
   "mimetype": "text/x-python",
   "name": "python",
   "nbconvert_exporter": "python",
   "pygments_lexer": "ipython3",
   "version": "3.7.3"
  }
 },
 "nbformat": 4,
 "nbformat_minor": 2
}
