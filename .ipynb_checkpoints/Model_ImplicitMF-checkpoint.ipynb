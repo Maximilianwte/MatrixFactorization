{
 "cells": [
  {
   "cell_type": "code",
   "execution_count": 1,
   "metadata": {},
   "outputs": [],
   "source": [
    "import pandas as pd\n",
    "import numpy as np\n",
    "import scipy.sparse as sparse\n",
    "import os\n",
    "import implicit\n",
    "import time\n",
    "from multiprocessing import Pool"
   ]
  },
  {
   "cell_type": "code",
   "execution_count": 17,
   "metadata": {},
   "outputs": [],
   "source": [
    "class Implicit:\n",
    "    def __init__(self, seed = 941, environment = \"offline\"):\n",
    "        self.seed = seed\n",
    "        self.not_testable = 0\n",
    "        \n",
    "        if environment == \"kaggle\":\n",
    "            self.read_matrices_timesplit(\"/kaggle/input/\")\n",
    "        else:\n",
    "            self.read_matrices_timesplit(\"../\")\n",
    "        \n",
    "    def read_matrices_timesplit(self, path):\n",
    "        self.training_set_csr = sparse.load_npz(f\"{path}/ratings_matrix_csr.npz\")\n",
    "        self.training_set_coo = sparse.load_npz(f\"{path}/ratings_matrix_coo.npz\")\n",
    "        \n",
    "        self.user_ids = np.load(f\"{path}/user_ids.npy\")\n",
    "        self.content_ids = np.load(f\"{path}/content_ids.npy\")\n",
    "        \n",
    "        self.test_set = pd.read_pickle(f\"{path}/test_set.pkl\", compression=\"zip\")\n",
    "        self.data_popularity = np.load(f\"{path}/popularity_data_5000.npy\", allow_pickle=True)\n",
    "\n",
    "        self.num_users, self.num_items = self.training_set_csr.shape\n",
    "    \n",
    "    def alternating_least_squares(self, iterations, factors, i_lambda, alpha):\n",
    "        self.model = implicit.als.AlternatingLeastSquares(factors=factors, regularization = i_lambda, iterations = iterations)\n",
    "        self.model.fit((self.training_set_csr*alpha).astype('double'))\n",
    "                \n",
    "    def logistic_factorization(self, iterations, factors, i_lambda, learning_parameter):\n",
    "        self.model = implicit.lmf.LogisticMatrixFactorization(factors, learning_parameter, i_lambda, iterations = iterations)\n",
    "        self.model.fit((self.training_set_coo).astype('double'))\n",
    "    \n",
    "    def predict_user_byIndex(self, index):\n",
    "        return self.model.item_factors[index].dot(self.model.user_factors.T)\n",
    "    \n",
    "    def get_user_vectors(self, users):\n",
    "        user_dict = {\"user\": \"values\"}\n",
    "        \n",
    "        for i in range(len(users)):\n",
    "            try:\n",
    "                user_indx = np.where(self.user_ids==users[i])[0][0]\n",
    "                user_dict[users[i]] = self.predict_user_byIndex(user_indx)\n",
    "            except:\n",
    "                self.not_testable += 1\n",
    "                \n",
    "        return user_dict\n",
    "    \n",
    "    def get_rank(self, user, item, user_vector):\n",
    "        item_indx = np.where(self.content_ids==item)[0][0]\n",
    "        \n",
    "        prob = user_vector[item_indx]\n",
    "        return np.where(np.sort(user_vector, kind=\"mergesort\")[:5000]==prob)[0][0]\n",
    "\n",
    "    def expected_percentile_ranking(self):\n",
    "        accuracy = list()\n",
    "        mar = 0   \n",
    "        self.not_testable = 0        \n",
    "        users = self.test_set.idUser.values\n",
    "        contents = self.test_set.fullId.values\n",
    "        breakpoint = 10*10**6\n",
    "        reportpoint = breakpoint if breakpoint < len(self.test_set.idUser) else len(self.test_set.idUser)\n",
    "        step = 8750 if 8750 < (breakpoint/4) else 2550\n",
    "        \n",
    "        user_dict = self.get_user_vectors(self.test_set.idUser.unique())\n",
    "        \n",
    "        for i in range(len(users)):\n",
    "            if i > breakpoint:\n",
    "                break\n",
    "\n",
    "            try:\n",
    "                accuracy.append(self.get_rank(users[i], contents[i], user_vector = user_dict[users[i]]) / 5000)\n",
    "            except:\n",
    "                pass\n",
    "\n",
    "            if i % step == 0:\n",
    "                print(f\"Solved iteration: {i}. That's about {np.round((i/reportpoint)*100,2)}%.\")\n",
    "\n",
    "        mar = np.mean(accuracy)\n",
    "            \n",
    "        return mar, accuracy\n",
    "    \n",
    "    def calculate_epr_popularity(self):\n",
    "        accuracy = list()\n",
    "        mar = 0        \n",
    "        users = self.test_set.idUser.values\n",
    "        contents = self.test_set.fullId.values\n",
    "        breakpoint = 100**4\n",
    "        reportpoint = breakpoint if breakpoint < len(self.test_set.idUser) else len(self.test_set.idUser)\n",
    "        step = 8750 if 8750 < (breakpoint/4) else 2550\n",
    "        \n",
    "        for i in range(len(users)):\n",
    "            if i > breakpoint:\n",
    "                break\n",
    "\n",
    "            try:\n",
    "                accuracy.append(self.get_rank(users[i], contents[i], user_vector = self.data_popularity) / 5000)\n",
    "            except:\n",
    "                pass\n",
    "\n",
    "            if i % step == 0:\n",
    "                print(f\"Solved iteration: {i}. That's about {np.round((i/reportpoint)*100,2)}%.\")\n",
    "\n",
    "        mar = np.mean(accuracy)\n",
    "            \n",
    "        return mar, accuracy "
   ]
  },
  {
   "cell_type": "code",
   "execution_count": 3,
   "metadata": {},
   "outputs": [],
   "source": [
    "class Studio:\n",
    "    def __init__(self, seed, env, factorizer = \"\"):\n",
    "        self.counter = 0\n",
    "        self.seed = seed\n",
    "        self.env = env\n",
    "        \n",
    "        if factorizer == \"\":\n",
    "            self.MF = Implicit(seed, env)\n",
    "            self.MF.create_training_data()\n",
    "        else:\n",
    "            self.MF = factorizer\n",
    "            \n",
    "    def save_model(self, user_vec, item_vec, parameters = \"\"):\n",
    "        np.save(f\"user_vec_{self.counter}_{parameters}\", user_vec)\n",
    "        np.save(f\"item_vec_{self.counter}_{parameters}\", item_vec)\n",
    "        self.counter += 1\n",
    "        \n",
    "    def run_test_als(self, v_iterations, v_factors, v_lambdas, v_alphas):\n",
    "        model_acc = list()\n",
    "        \n",
    "        for it in v_iterations:\n",
    "            for factor in v_factors:\n",
    "                for in_lambda in v_lambdas:\n",
    "                    for alpha in v_alphas:\n",
    "                        print(f\"Starting Iteration: iterations-{it}_factors-{factor}_lambda-{in_lambda}_alpha-{alpha}\")\n",
    "                        self.MF.alternating_least_squares(iterations = it, factors = factor, i_lambda = in_lambda, alpha = alpha)\n",
    "                        mar, accuracy = self.MF.expected_percentile_ranking()\n",
    "                        \n",
    "                        #self.save_model(self.MF.model.user_factors, self.MF.model.item_factors, f\"{time.time()}_iterations-{it}_factors-{factor}_lambda-{in_lambda}_alpha-{alpha}\")\n",
    "                        model_acc.append([f\"model_als-iterations-{it}_factors-{factor}_lambda-{in_lambda}_alpha-{alpha}\", mar, accuracy])                        \n",
    "                        print(f\"Fishing up Iteration: iterations-{it}_factors-{factor}_lambda-{in_lambda}_alpha-{alpha}. Reported MAR: {mar}.\")\n",
    "        np.save(f\"model_acc_{time.time()}\", model_acc)              \n",
    "        return model_acc\n",
    "    \n",
    "    def run_test_log(self, v_iterations, v_factors, v_lambdas, v_learning):\n",
    "        model_acc = list()\n",
    "\n",
    "        for it in v_iterations:\n",
    "            for factor in v_factors:\n",
    "                for in_lambda in v_lambdas:\n",
    "                    for in_learning in v_learning:\n",
    "                        print(f\"Starting Iteration: iterations-{it}_factors-{factor}_lambda-{in_lambda}_learning_parameter-{in_learning}\")\n",
    "                        self.MF.logistic_factorization(iterations = it, factors = factor, i_lambda = in_lambda, learning_parameter = in_learning)\n",
    "                        mar, accuracy = self.MF.expected_percentile_ranking()\n",
    "\n",
    "                        #self.save_model(self.MF.model.user_factors, self.MF.model.item_factors, f\"{time.time()}_iterations-{it}_factors-{factor}_lambda-{in_lambda}_learning_parameter-{learning_parameter}\")\n",
    "                        model_acc.append([f\"model_als-iterations-{it}_factors-{factor}_lambda-{in_lambda}_learning_parameter-{in_learning}\", mar, accuracy])                        \n",
    "                        print(f\"Fishing up Iteration: iterations-{it}_factors-{factor}_lambda-{in_lambda}_learning_parameter-{in_learning}. Reported MAR: {mar}.\")\n",
    "        np.save(f\"model_acc_{time.time()}\", model_acc)              \n",
    "        return model_acc\n",
    "                        "
   ]
  },
  {
   "cell_type": "code",
   "execution_count": 18,
   "metadata": {},
   "outputs": [],
   "source": [
    "# Implicit Alternating Least Squares Model Koren 2008.\n",
    "Model_Implicit = Implicit(941, \"kaggle\")"
   ]
  },
  {
   "cell_type": "code",
   "execution_count": null,
   "metadata": {},
   "outputs": [],
   "source": [
    "# Logistic Factorization Johnson 2014.\n",
    "Logistic = Implicit(941, \"kaggle\")"
   ]
  },
  {
   "cell_type": "code",
   "execution_count": null,
   "metadata": {},
   "outputs": [
    {
     "name": "stdout",
     "output_type": "stream",
     "text": [
      "Solved iteration: 0. That's about 0.0%.\n",
      "Solved iteration: 8750. That's about 4.14%.\n",
      "Solved iteration: 17500. That's about 8.27%.\n"
     ]
    }
   ],
   "source": [
    "mar, accuracy = Model_Implicit.calculate_epr_popularity()\n",
    "mar"
   ]
  },
  {
   "cell_type": "code",
   "execution_count": null,
   "metadata": {},
   "outputs": [],
   "source": [
    "Analysis = Studio(941, \"kaggle\", Logistic)"
   ]
  },
  {
   "cell_type": "code",
   "execution_count": null,
   "metadata": {},
   "outputs": [],
   "source": [
    "model_accuracy = Analysis.run_test_als(v_iterations = [40], v_factors = [60,80,150], v_lambdas = [0.01], v_alphas = [15])"
   ]
  },
  {
   "cell_type": "code",
   "execution_count": null,
   "metadata": {},
   "outputs": [],
   "source": [
    "model_accuracy = Analysis.run_test_log(v_iterations = [40], v_factors = [60,80,100,150,200,150,200], v_lambdas = [0.01], v_learning = [0.1])"
   ]
  }
 ],
 "metadata": {
  "kernelspec": {
   "display_name": "Python 3",
   "language": "python",
   "name": "python3"
  },
  "language_info": {
   "codemirror_mode": {
    "name": "ipython",
    "version": 3
   },
   "file_extension": ".py",
   "mimetype": "text/x-python",
   "name": "python",
   "nbconvert_exporter": "python",
   "pygments_lexer": "ipython3",
   "version": "3.7.3"
  }
 },
 "nbformat": 4,
 "nbformat_minor": 1
}
