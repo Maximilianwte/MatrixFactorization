{
 "cells": [
  {
   "cell_type": "code",
   "execution_count": 4,
   "metadata": {},
   "outputs": [],
   "source": [
    "import pandas as pd\n",
    "import numpy as np\n",
    "import os\n",
    "import scipy.sparse as sparse\n",
    "from scipy.sparse.linalg import spsolve\n",
    "import random"
   ]
  },
  {
   "cell_type": "code",
   "execution_count": 33,
   "metadata": {},
   "outputs": [],
   "source": [
    "class Matrix_Factorizer:\n",
    "    def __init__(self, seed):\n",
    "        self.seed = seed\n",
    "        \n",
    "    def read_matrices_small(self):        \n",
    "        #self.matrix_asFrame = pd.read_excel(\"../data_500_full.xlsx\")\n",
    "        self.matrix = sparse.load_npz(\"../ratings_matrix_500_full.npz\")\n",
    "        \n",
    "        self.num_users, self.num_items = self.matrix.shape\n",
    "        \n",
    "    def read_matrices_full(self):        \n",
    "        self.matrix_asFrame = pd.read_excel(\"../data_10000_full.xlsx\")\n",
    "        #self.matrix_asFrame = self.matrix_asFrame.drop(labels=\"Unnamed: 0\", axis=1)\n",
    "        self.matrix = sparse.load_npz(\"../ratings_matrix_10000_full.npz\")\n",
    "        \n",
    "        self.num_users, self.num_items = self.matrix.shape\n",
    "    \n",
    "    def create_training_data(self, percent_test_set = 0.15):\n",
    "        training_set = self.matrix.copy()\n",
    "        positive_indices = training_set.nonzero()\n",
    "        positive_values = list(zip(positive_indices[0], positive_indices[1]))\n",
    "        test_set = self.matrix.copy()\n",
    "        test_set[test_set != 0] = 1\n",
    "        random.seed(self.seed)\n",
    "        n_samples = int(percent_test_set*len(positive_values))\n",
    "        samples = random.sample(positive_values, n_samples)\n",
    "        user_indices = [index[0] for index in samples]\n",
    "        item_indices = [index[1] for index in samples]\n",
    "        training_set[user_indices, item_indices] = 0\n",
    "        training_set.eliminate_zeros()\n",
    "        \n",
    "        self.training_set = training_set\n",
    "        self.test_set = test_set\n",
    "        self.indices = list(set(user_indices))\n",
    "        \n",
    "    def alternating_least_squares(self, k, alpha, v_lambda, n):\n",
    "        # K - Latent Factors, Alpha - Learning rate, V_lambda - Regulation, N - Iterations\n",
    "        training_set = self.training_set\n",
    "        test_set = self.test_set\n",
    "        \n",
    "        confidence = (alpha*training_set)\n",
    "        n_user = confidence.shape[0]\n",
    "        n_items = confidence.shape[1]\n",
    "        \n",
    "        X = sparse.csr_matrix(np.random.RandomState(self.seed).normal(size = (n_user, k)))\n",
    "        Y = sparse.csr_matrix(np.random.RandomState(self.seed).normal(size = (n_items, k)))\n",
    "        # sparse.eye erzeugt eine Eigenmatrix\n",
    "        X_eye = sparse.eye(n_user)\n",
    "        Y_eye = sparse.eye(n_items)\n",
    "        # The regulization term\n",
    "        lambda_eye = v_lambda * sparse.eye(k)\n",
    "        \n",
    "        for iteration in range(n):\n",
    "            Y_tY = Y.T.dot(Y)\n",
    "            X_tX = X.T.dot(X)\n",
    "            \n",
    "            for user in range(n_user):\n",
    "                confidence_sample = confidence[user,:].toarray()\n",
    "                preference = confidence_sample.copy()\n",
    "                preference[preference != 0] = 1\n",
    "                CuI = sparse.diags(confidence_sample, [0])\n",
    "                yTCuIY = Y.T.dot(CuI).dot(Y)\n",
    "                yTCupu = Y.T.dot(CuI + Y_eye).dot(preference.T)\n",
    "                X[user] = spsolve(Y_tY + yTCuIY + lambda_eye, yTCupu)\n",
    "                \n",
    "                for item in range(n_items):\n",
    "                    confidence_sample = confidence[:,item].T.toarray()\n",
    "                    preference = confidence_sample.copy()\n",
    "                    preference[preference != 0] = 1\n",
    "                    CiI = sparse.diags(confidence_sample, [0])\n",
    "                    xTCiTX = X.T.dot(CiI).dot(X)\n",
    "                    xTCiPi = X.T.dot(CiI + X_eye).dot(preference.T)\n",
    "                    Y[item] = spsolve(X_tX + xTCiTX + lambda_eye, xTCiPi)\n",
    "            self.printed = self.get_progress(iteration, n, self.printed)\n",
    "        return X, Y.T\n",
    "    def get_progress(self, i, n, printed):\n",
    "        val = printed\n",
    "        if i/n > 0.95 and printed < 0.95:\n",
    "            pct = \"95%\"\n",
    "            val = 0.95\n",
    "            break\n",
    "        elif i/n > 0.90:\n",
    "            pct = \"90%\"\n",
    "            val = 0.90\n",
    "            break\n",
    "        elif i/n > 0.75:\n",
    "            pct = \"75%\"\n",
    "            val = 0.75\n",
    "            break\n",
    "        elif i/n > 0.50:\n",
    "            pct = \"50%\"\n",
    "            val = 0.5\n",
    "            break\n",
    "        elif i/n > 0.25:\n",
    "            pct = \"25%\"\n",
    "            val = 0.25\n",
    "            break\n",
    "        elif i/n > 0.10:\n",
    "            pct = \"10%\"\n",
    "            val = 0.1\n",
    "            break\n",
    "        elif i/n > 0.01:\n",
    "            pct = \"1%\"\n",
    "            val = 0.01\n",
    "            break\n",
    "    \n",
    "        print(f\"More than: {pct} done.\")\n",
    "        return val"
   ]
  },
  {
   "cell_type": "code",
   "execution_count": 34,
   "metadata": {},
   "outputs": [],
   "source": [
    "Factorizer = Matrix_Factorizer(941)\n",
    "Factorizer.read_matrices_small()\n",
    "Factorizer.create_training_data()"
   ]
  },
  {
   "cell_type": "code",
   "execution_count": 35,
   "metadata": {},
   "outputs": [
    {
     "data": {
      "text/plain": [
       "array([[1.2759e+04, 1.0000e+00, 0.0000e+00, ..., 0.0000e+00, 0.0000e+00,\n",
       "        0.0000e+00],\n",
       "       [2.2000e+01, 0.0000e+00, 0.0000e+00, ..., 0.0000e+00, 0.0000e+00,\n",
       "        0.0000e+00],\n",
       "       [0.0000e+00, 0.0000e+00, 0.0000e+00, ..., 0.0000e+00, 0.0000e+00,\n",
       "        0.0000e+00],\n",
       "       ...,\n",
       "       [0.0000e+00, 0.0000e+00, 0.0000e+00, ..., 0.0000e+00, 0.0000e+00,\n",
       "        0.0000e+00],\n",
       "       [6.0000e+00, 0.0000e+00, 0.0000e+00, ..., 0.0000e+00, 0.0000e+00,\n",
       "        0.0000e+00],\n",
       "       [0.0000e+00, 0.0000e+00, 0.0000e+00, ..., 0.0000e+00, 0.0000e+00,\n",
       "        0.0000e+00]])"
      ]
     },
     "execution_count": 35,
     "metadata": {},
     "output_type": "execute_result"
    }
   ],
   "source": [
    "Factorizer.matrix.toarray()"
   ]
  },
  {
   "cell_type": "code",
   "execution_count": null,
   "metadata": {},
   "outputs": [],
   "source": [
    "user_vecs, item_vecs = Factorizer.alternating_least_squares(10, 15, 0.1, 1)"
   ]
  },
  {
   "cell_type": "code",
   "execution_count": null,
   "metadata": {},
   "outputs": [],
   "source": [
    "user_vecs"
   ]
  },
  {
   "cell_type": "code",
   "execution_count": null,
   "metadata": {},
   "outputs": [],
   "source": [
    "item_vecs"
   ]
  },
  {
   "cell_type": "code",
   "execution_count": 38,
   "metadata": {},
   "outputs": [
    {
     "ename": "ModuleNotFoundError",
     "evalue": "No module named 'implicit'",
     "output_type": "error",
     "traceback": [
      "\u001b[1;31m---------------------------------------------------------------------------\u001b[0m",
      "\u001b[1;31mModuleNotFoundError\u001b[0m                       Traceback (most recent call last)",
      "\u001b[1;32m<ipython-input-38-f3b586312c97>\u001b[0m in \u001b[0;36m<module>\u001b[1;34m\u001b[0m\n\u001b[0;32m      1\u001b[0m \u001b[1;31m# fast blackbox als by flipboard\u001b[0m\u001b[1;33m\u001b[0m\u001b[1;33m\u001b[0m\u001b[1;33m\u001b[0m\u001b[0m\n\u001b[1;32m----> 2\u001b[1;33m \u001b[1;32mimport\u001b[0m \u001b[0mimplicit\u001b[0m\u001b[1;33m\u001b[0m\u001b[1;33m\u001b[0m\u001b[0m\n\u001b[0m\u001b[0;32m      3\u001b[0m \u001b[0malpha\u001b[0m \u001b[1;33m=\u001b[0m \u001b[1;36m15\u001b[0m\u001b[1;33m\u001b[0m\u001b[1;33m\u001b[0m\u001b[0m\n\u001b[0;32m      4\u001b[0m user_vecs, item_vecs = implicit.alternating_least_squares((product_train*alpha).astype('double'), \n\u001b[0;32m      5\u001b[0m                                                           \u001b[0mfactors\u001b[0m\u001b[1;33m=\u001b[0m\u001b[1;36m20\u001b[0m\u001b[1;33m,\u001b[0m\u001b[1;33m\u001b[0m\u001b[1;33m\u001b[0m\u001b[0m\n",
      "\u001b[1;31mModuleNotFoundError\u001b[0m: No module named 'implicit'"
     ]
    }
   ],
   "source": [
    "# fast blackbox als by flipboard\n",
    "import implicit\n",
    "alpha = 15\n",
    "user_vecs, item_vecs = implicit.alternating_least_squares((product_train*alpha).astype('double'), factors=20, regularization = 0.1, iterations = 50)"
   ]
  },
  {
   "cell_type": "code",
   "execution_count": null,
   "metadata": {},
   "outputs": [],
   "source": []
  }
 ],
 "metadata": {
  "kernelspec": {
   "display_name": "Python 3",
   "language": "python",
   "name": "python3"
  },
  "language_info": {
   "codemirror_mode": {
    "name": "ipython",
    "version": 3
   },
   "file_extension": ".py",
   "mimetype": "text/x-python",
   "name": "python",
   "nbconvert_exporter": "python",
   "pygments_lexer": "ipython3",
   "version": "3.7.3"
  }
 },
 "nbformat": 4,
 "nbformat_minor": 2
}
