{
 "cells": [
  {
   "cell_type": "code",
   "execution_count": 24,
   "metadata": {},
   "outputs": [],
   "source": [
    "import pandas as pd\n",
    "import numpy as np\n",
    "import os\n",
    "import scipy.sparse as sparse\n",
    "from scipy.sparse.linalg import spsolve"
   ]
  },
  {
   "cell_type": "code",
   "execution_count": 31,
   "metadata": {},
   "outputs": [],
   "source": [
    "class Matrix_Factorizer:\n",
    "    def __init__(self, size, seed):\n",
    "        if size != \"\":\n",
    "            self.read_matrices(size)\n",
    "        \n",
    "        self.seed = seed\n",
    "    def read_matrices(self, size = \"medium\"):\n",
    "        # Read_Data: load ratings matrices from csv & numpy data. If data is not available run Pre-Processing first.\n",
    "        self.matrix_asFrame = pd.read_csv(f\"df_ratings_matrix_{size}.csv\")\n",
    "        self.matrix_asFrame = self.matrix_asFrame.set_index(\"Unnamed: 0\")\n",
    "        self.matrix_asFrame.index.name = \"UserID\"\n",
    "        \n",
    "        try:\n",
    "            self.ratings_matrix = sparse.load_npz(\"ratings_matrix.npz\")\n",
    "        except:\n",
    "            self.ratings_matrix = sparse.csr_matrix(self.matrix_asFrame.values)\n",
    "            sparse.save_npz(\"ratings_matrix\", self.sparse_matrix, compressed=True)\n",
    "        \n",
    "        self.num_users, self.num_items = self.ratings_matrix.shape\n",
    "        \n",
    "    def read_train_test(self):\n",
    "        self.training_data = sparse.load(\"training_data.npz\")\n",
    "        self.test_data = sparse.load(\"test_data.npz\")\n",
    "        \n",
    "    def create_training_data(self, percent_test_set = 0.15):\n",
    "        training_set = self.ratings_matrix.copy()\n",
    "        positive_indices = training_set.nonzero()\n",
    "        positive_values = list(zip(positive_indices[0], positive_indices[1]))\n",
    "        test_set = self.ratings_matrix.copy()\n",
    "        test_set[test_set != 0] = 1\n",
    "        random.seed(self.seed)\n",
    "        n_samples = int(percent_test_set*len(positive_values))\n",
    "        samples = random.sample(positive_values, n_samples)\n",
    "        user_indices = [index[0] for index in samples]\n",
    "        item_indices = [index[1] for index in samples]\n",
    "        training_set[user_indices, item_indices] = 0\n",
    "        training_set.eliminate_zeros()\n",
    "        \n",
    "        self.training_set = training_set\n",
    "        self.test_set = test_setlist(set(user_indices))\n",
    "        self.indices = list(set(user_indices))\n",
    "        \n",
    "    def alternating_least_squares(self, k, alpha, v_lambda, n):\n",
    "        # K - Latent Factors, Alpha - Learning rate, V_lambda - Regulation, N - Iterations\n",
    "        training_set = self.training_set\n",
    "        test_set = self.test_set\n",
    "        \n",
    "        confidence = (alpha*training_set)\n",
    "        n_user = confidence.shape[0]\n",
    "        n_items = confidence.shape[1]\n",
    "        \n",
    "        X = sparse.csr_matrix(np.random.RandomState(self.seed).normal(size = (n_user, k)))\n",
    "        Y = sparse.csr_matrix(np.random.RandomState(self.seed).normal(size = (n_items, k)))\n",
    "        X_eye = sparse.eye(num_users)\n",
    "        Y_eye = sparse.eye(num_items)\n",
    "        # The regulization term\n",
    "        lambda_eye = v_lambda * sparse.eye(k)\n",
    "        \n",
    "        for iteration in range(n):\n",
    "            Y_tY = Y.transpose.dot(Y)\n",
    "            X_tX = X.transpose.dot(X)\n",
    "            \n",
    "            for user in range(n_user):\n",
    "                confidence_sample = conf[user,:].toarray()\n",
    "                preference = confidence_sample.copy()\n",
    "                preference[preference != 0] = 1"
   ]
  },
  {
   "cell_type": "code",
   "execution_count": 32,
   "metadata": {},
   "outputs": [],
   "source": [
    "Factorizer = Matrix_Factorizer(\"small\", 941)\n",
    "#Factorizer.set_factorizer(k = 30, alpha = 40, inlambda = 0.08, n = 50)"
   ]
  },
  {
   "cell_type": "code",
   "execution_count": 34,
   "metadata": {},
   "outputs": [
    {
     "data": {
      "text/plain": [
       "array([16, 12,  1, ...,  1,  1,  1], dtype=int64)"
      ]
     },
     "execution_count": 34,
     "metadata": {},
     "output_type": "execute_result"
    }
   ],
   "source": [
    "Factorizer.ratings_matrix.data"
   ]
  },
  {
   "cell_type": "code",
   "execution_count": 18,
   "metadata": {},
   "outputs": [
    {
     "data": {
      "text/plain": [
       "6328"
      ]
     },
     "execution_count": 18,
     "metadata": {},
     "output_type": "execute_result"
    }
   ],
   "source": []
  },
  {
   "cell_type": "code",
   "execution_count": null,
   "metadata": {},
   "outputs": [],
   "source": []
  }
 ],
 "metadata": {
  "kernelspec": {
   "display_name": "Python 3",
   "language": "python",
   "name": "python3"
  },
  "language_info": {
   "codemirror_mode": {
    "name": "ipython",
    "version": 3
   },
   "file_extension": ".py",
   "mimetype": "text/x-python",
   "name": "python",
   "nbconvert_exporter": "python",
   "pygments_lexer": "ipython3",
   "version": "3.7.3"
  }
 },
 "nbformat": 4,
 "nbformat_minor": 2
}
