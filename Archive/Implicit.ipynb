{
 "cells": [
  {
   "cell_type": "code",
   "execution_count": null,
   "metadata": {},
   "outputs": [],
   "source": [
    "import pandas as pd\n",
    "import numpy as np\n",
    "#import time\n",
    "#import scipy.sparse as sparse\n",
    "#from scipy.sparse.linalg import spsolve\n",
    "from sklearn import metrics\n",
    "#import random\n",
    "import os"
   ]
  },
  {
   "cell_type": "code",
   "execution_count": null,
   "metadata": {},
   "outputs": [],
   "source": [
    "import implicit"
   ]
  },
  {
   "cell_type": "code",
   "execution_count": 1,
   "metadata": {},
   "outputs": [],
   "source": [
    "class Implicit:\n",
    "    def __init__(self, seed, environment = \"offline\"):\n",
    "        self.seed = seed\n",
    "        \n",
    "        if environment == \"kaggle\":\n",
    "            self.read_matrices_kaggle()\n",
    "        else:\n",
    "            self.read_matrices()\n",
    "        \n",
    "    def read_matrices(self):        \n",
    "        self.matrix_asFrame = pd.read_excel(f\"../data.xlsx\")\n",
    "        self.matrix = sparse.load_npz(f\"../ratings.npz\")\n",
    "        \n",
    "        self.num_users, self.num_items = self.matrix.shape\n",
    "    \n",
    "    def read_matrices_kaggle(self):\n",
    "        self.matrix_asFrame = pd.read_excel(f\"/kaggle/input/data.xlsx\")\n",
    "        self.matrix = sparse.load_npz(f\"/kaggle/input/ratings.npz\")\n",
    "        \n",
    "        self.num_users, self.num_items = self.matrix.shape\n",
    "        \n",
    "    def create_training_data(self, percent_test_set = 0.15):\n",
    "        training_set = self.matrix.copy()\n",
    "        positive_indices = training_set.nonzero()\n",
    "        positive_values = list(zip(positive_indices[0], positive_indices[1]))\n",
    "        test_set = self.matrix.copy()\n",
    "        # The test set should only measure, if the item is going to be bought, not the frequency.\n",
    "        test_set[test_set != 0] = 1\n",
    "        random.seed(self.seed)\n",
    "        n_samples = int(percent_test_set*len(positive_values))\n",
    "        samples = random.sample(positive_values, n_samples)\n",
    "        # Put all chosen samples into lists.\n",
    "        user_indices = [index[0] for index in samples]\n",
    "        item_indices = [index[1] for index in samples]\n",
    "        # All users and items that are used in the test set, should be unviewed in the training set.\n",
    "        training_set[user_indices, item_indices] = 0\n",
    "        training_set.eliminate_zeros()\n",
    "        \n",
    "        self.training_set = training_set\n",
    "        self.test_set = test_set\n",
    "        self.indices = list(set(user_indices))\n",
    "    \n",
    "    def alternating_least_squares(self, iterations, factors, i_lambda, alpha):\n",
    "        self.user_vecs, self.item_vecs = implicit.alternating_least_squares((self.training_set*alpha).astype('double'), factors=factors, regularization = i_lambda, iterations = iterations)\n",
    "    \n",
    "    def predict_user_byIndex(self, index):\n",
    "        return user_vecs[index,:].dot(item_vecs.transpose())"
   ]
  },
  {
   "cell_type": "code",
   "execution_count": null,
   "metadata": {},
   "outputs": [],
   "source": [
    "Factorizer = Matrix_Factorizer(941, \"offline\")\n",
    "Factorizer.create_training_data()"
   ]
  },
  {
   "cell_type": "code",
   "execution_count": null,
   "metadata": {},
   "outputs": [],
   "source": [
    "# In Kaggle Kernels\n",
    "Factorizer = Matrix_Factorizer(941, \"kaggle\")\n",
    "Factorizer.create_training_data()"
   ]
  },
  {
   "cell_type": "code",
   "execution_count": null,
   "metadata": {},
   "outputs": [],
   "source": [
    "Factorizer.alternating_least_squares(iterations = 10, factors = 40, i_lambda = 0.15, alpha = 30)"
   ]
  },
  {
   "cell_type": "code",
   "execution_count": null,
   "metadata": {},
   "outputs": [],
   "source": [
    "Factorizer.predict_user_byIndex(10)"
   ]
  }
 ],
 "metadata": {
  "kernelspec": {
   "display_name": "Python 3",
   "language": "python",
   "name": "python3"
  },
  "language_info": {
   "codemirror_mode": {
    "name": "ipython",
    "version": 3
   },
   "file_extension": ".py",
   "mimetype": "text/x-python",
   "name": "python",
   "nbconvert_exporter": "python",
   "pygments_lexer": "ipython3",
   "version": "3.7.3"
  }
 },
 "nbformat": 4,
 "nbformat_minor": 2
}
