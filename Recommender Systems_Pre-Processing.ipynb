{
 "cells": [
  {
   "cell_type": "code",
   "execution_count": 1,
   "metadata": {},
   "outputs": [],
   "source": [
    "import pandas as pd\n",
    "import numpy as np\n",
    "import os\n",
    "import heapq\n",
    "import scipy.sparse as sparse"
   ]
  },
  {
   "cell_type": "code",
   "execution_count": 10,
   "metadata": {},
   "outputs": [],
   "source": [
    "class Pre_Processer:\n",
    "    def __init__(self):\n",
    "        self.size = 150*10**3\n",
    "        self.size_name = \"medium\"\n",
    "        \n",
    "    def read_data(self):\n",
    "        self.data_users = pd.read_excel(\"Data.xlsx\", sheet_name=\"Users\")\n",
    "        self.data_tracking = pd.read_excel(\"Data.xlsx\", sheet_name=\"Tracking\")\n",
    "        \n",
    "    def read_data_twocsv(self):\n",
    "        self.data_users = pd.read_csv(\"../StatistaUsers500.csv\")\n",
    "        self.data_tracking = pd.read_csv(\"../StatistaTracking500.csv\")\n",
    "        \n",
    "    def read_processed_data(self):\n",
    "        # Read_Data: load user data from csv.\n",
    "        self.user_data = pd.read_csv(f\"df_user_data_{self.size_name}.csv\")\n",
    "        self.user_data = self.user_data.drop(\"Unnamed: 0\", axis=1)\n",
    "        \n",
    "    def read_df_ratings_matrix(self):\n",
    "        self.matrix_asFrame = pd.read_csv(f\"df_ratings_matrix_{self.size_name}.csv\")\n",
    "        self.matrix_asFrame = self.matrix_asFrame.set_index(\"Unnamed: 0\")\n",
    "        self.matrix_asFrame.index.name = \"UserID\"\n",
    "        \n",
    "    def pre_processing(self):\n",
    "        print(\"You are starting with Pre-Processing step 1 here. Otherwise run read_processed_data()\")\n",
    "        \n",
    "        self.data_tracking = self.data_tracking.drop(labels=[' accessType;;;;;', 'Unnamed: 9',\n",
    "        'Unnamed: 10', 'Unnamed: 11', 'Unnamed: 12', 'Unnamed: 13',\n",
    "        'Unnamed: 14', 'Unnamed: 15', 'Unnamed: 16', 'Unnamed: 17',\n",
    "        'Unnamed: 18', 'Unnamed: 19', 'Unnamed: 20', 'Unnamed: 21',\n",
    "        'Unnamed: 22', 'Unnamed: 23', 'Unnamed: 24', 'Unnamed: 25',\n",
    "        'Unnamed: 26', 'Unnamed: 27', 'Unnamed: 28', 'Unnamed: 29',\n",
    "        'Unnamed: 30', 'Unnamed: 31', 'Unnamed: 32', 'Unnamed: 33'], axis=1)\n",
    "        \n",
    "        self.data_tracking.columns = ['idUser', 'day', 'month', 'year', 'idContent', 'contentSubType',\n",
    "               'contentBranch', 'contentName']\n",
    "    \n",
    "    def set_ratings_size(self, exponent):\n",
    "        self.size = 100*10**exponent\n",
    "        \n",
    "        if exponent == 0:\n",
    "            self.size_name = \"extra_small\"\n",
    "        elif exponent == 0.5:\n",
    "            self.size_name = \"small\"\n",
    "        elif exponent == 1:\n",
    "            self.size_name = \"medium\"\n",
    "        elif exponent == 2:\n",
    "            self.size_name = \"large\"\n",
    "        elif exponent == 999:\n",
    "            self.size_name = \"full\"\n",
    "        else:\n",
    "            self.size_name = \"different_size\"\n",
    "            \n",
    "        print(f\"Data Frame size set to: {self.size_name}.\")\n",
    "            \n",
    "        \n",
    "    def create_ratings_data(self):\n",
    "        # v2.0 Get all the viewed content for each user\n",
    "        user_data = pd.DataFrame(columns=[\"idUser\", \"idContent\", \"timesViewed\"])\n",
    "        data_dict = {\"idUser\": \"user\", \"idContent\": \"content\", \"timesViewed\": \"viewed\"}\n",
    "        user = []\n",
    "        content = []\n",
    "        viewed = []\n",
    "\n",
    "        for i in range(0, len(self.data_tracking[\"idUser\"])):\n",
    "            if i == self.size:\n",
    "                break\n",
    "\n",
    "            # Save & Create new user_list if this row starts a new users data.\n",
    "            if i != 0 and self.data_tracking[\"idUser\"].iloc[i] != self.data_tracking[\"idUser\"].iloc[i-1]:\n",
    "                print(data_dict)\n",
    "                data_dict = {\"idUser\": user, \"idContent\": content, \"timesViewed\": viewed}\n",
    "                this_user_data = pd.DataFrame.from_dict(data_dict)\n",
    "                user_data = pd.concat([user_data, this_user_data])\n",
    "                user = []\n",
    "                content = []\n",
    "                viewed = []\n",
    "\n",
    "            item_found = False\n",
    "\n",
    "            for j in range(len(content), 0, -1):\n",
    "                if content[j-1] == self.data_tracking[\"idContent\"].iloc[i]:\n",
    "                    viewed[j-1] += 1  \n",
    "                    item_found = True\n",
    "                    break\n",
    "\n",
    "            if len(content) == 0 or item_found == False:\n",
    "                user.append(self.data_tracking[\"idUser\"].iloc[i]) \n",
    "                content.append(self.data_tracking[\"idContent\"].iloc[i]) \n",
    "                viewed.append(1)\n",
    "\n",
    "        # save the user data frame to save time\n",
    "        user_data.to_csv(f\"df_user_data_{self.size_name}.csv\")   \n",
    "        \n",
    "    def create_ratings_dataframe(self):\n",
    "        print(\"You are starting with Pre-Processing step 2 here. Otherwise run pre_processing()\")\n",
    "        \n",
    "        num_contents = 0\n",
    "        num_users = 0\n",
    "        id_contents = list()\n",
    "        id_users = list()\n",
    "        \n",
    "        for id in Data.user_data[\"idContent\"]:\n",
    "            if id not in id_contents:\n",
    "                id_contents.append(id)\n",
    "                num_contents += 1\n",
    "                \n",
    "        for id in Data.user_data[\"idUser\"]:\n",
    "            if id not in id_users:\n",
    "                id_users.append(id)\n",
    "                num_users += 1\n",
    "                \n",
    "        self.matrix_asFrame = pd.DataFrame(index=id_users, columns=id_contents)\n",
    "        \n",
    "        # create unary matrix\n",
    "        \"\"\"for user in self.matrix_asFrame.index:\n",
    "            for content in self.user_data[self.user_data[\"idUser\"] == user][\"idContent\"]:\n",
    "                    self.matrix_asFrame.loc[user, content] = 1\"\"\"\n",
    "        \n",
    "        # create numerical matrix with view counts\n",
    "        for user in self.matrix_asFrame.index:\n",
    "            for j in range(0, len(self.user_data[self.user_data[\"idUser\"] == user][\"idContent\"])):\n",
    "                    content = self.user_data[self.user_data[\"idUser\"] == user].iloc[j][\"idContent\"]\n",
    "                    views = self.user_data[self.user_data[\"idUser\"] == user].iloc[j][\"timesViewed\"]\n",
    "                    self.matrix_asFrame.loc[user, content] = views\n",
    "\n",
    "        self.matrix_asFrame = self.matrix_asFrame.fillna(0)\n",
    "        \n",
    "        # save the user data frame to save time\n",
    "        self.matrix_asFrame.to_csv(f\"df_ratings_matrix_{self.size_name}.csv\") \n",
    "\n",
    "    def create_ratings_matrix(self):\n",
    "        print(\"You are starting with Pre-Processing step 3 here. Otherwise run pre_processing()\")\n",
    "\n",
    "        self.ratings_matrix = self.matrix_asFrame.values\n",
    "        np.save(f\"ratings_matrix_{self.size_name}\", self.ratings_matrix)\n",
    "    \n",
    "    def create_sparse_ratings_matrix(self):\n",
    "        print(\"You are starting with Pre-Processing step 3 here. Otherwise run pre_processing()\")\n",
    "        \n",
    "        self.sparse_matrix = sparse.csr_matrix(self.matrix_asFrame.values)\n",
    "        sparse.save_npz(f\"ratings_matrix_{self.size_name}\", self.sparse_matrix, compressed=True)"
   ]
  },
  {
   "cell_type": "code",
   "execution_count": 11,
   "metadata": {},
   "outputs": [],
   "source": [
    "Data = Pre_Processer()"
   ]
  },
  {
   "cell_type": "code",
   "execution_count": 14,
   "metadata": {},
   "outputs": [],
   "source": [
    "# Full pre-processing step 1. Optional: set_ratings_size(). If not set 150*10**3 = 150.000 rows of tracking data will be read.\n",
    "Data.read_data_twocsv()\n",
    "#Data.pre_processing()\n",
    "#Data.set_ratings_size(999)\n",
    "#Data.create_ratings_data()"
   ]
  },
  {
   "cell_type": "code",
   "execution_count": null,
   "metadata": {},
   "outputs": [],
   "source": [
    "# If Pre-Processing Step 1 is already done.\n",
    "Data.set_ratings_size(999)\n",
    "Data.read_processed_data()\n",
    "Data.create_ratings_dataframe()"
   ]
  },
  {
   "cell_type": "code",
   "execution_count": null,
   "metadata": {},
   "outputs": [],
   "source": [
    "# If Pre-Processing Step 1 & 2 are already done.\n",
    "Data.set_ratings_size(999)\n",
    "Data.read_df_ratings_matrix()\n",
    "#Data.create_ratings_matrix()\n",
    "Data.create_sparse_ratings_matrix()"
   ]
  },
  {
   "cell_type": "code",
   "execution_count": 7,
   "metadata": {},
   "outputs": [
    {
     "data": {
      "text/html": [
       "<div>\n",
       "<style scoped>\n",
       "    .dataframe tbody tr th:only-of-type {\n",
       "        vertical-align: middle;\n",
       "    }\n",
       "\n",
       "    .dataframe tbody tr th {\n",
       "        vertical-align: top;\n",
       "    }\n",
       "\n",
       "    .dataframe thead th {\n",
       "        text-align: right;\n",
       "    }\n",
       "</style>\n",
       "<table border=\"1\" class=\"dataframe\">\n",
       "  <thead>\n",
       "    <tr style=\"text-align: right;\">\n",
       "      <th></th>\n",
       "    </tr>\n",
       "    <tr>\n",
       "      <th>UserID</th>\n",
       "    </tr>\n",
       "  </thead>\n",
       "  <tbody>\n",
       "  </tbody>\n",
       "</table>\n",
       "</div>"
      ],
      "text/plain": [
       "Empty DataFrame\n",
       "Columns: []\n",
       "Index: []"
      ]
     },
     "execution_count": 7,
     "metadata": {},
     "output_type": "execute_result"
    }
   ],
   "source": [
    "Data.matrix_asFrame.head(10)"
   ]
  },
  {
   "cell_type": "code",
   "execution_count": 62,
   "metadata": {},
   "outputs": [
    {
     "data": {
      "text/plain": [
       "0           0.262045\n",
       "264810      0.024677\n",
       "272014      0.021152\n",
       "243         0.019976\n",
       "200         0.017626\n",
       "3979        0.011751\n",
       "70000000    0.011751\n",
       "270291      0.011751\n",
       "271496      0.011751\n",
       "276623      0.011751\n",
       "dtype: float64"
      ]
     },
     "execution_count": 62,
     "metadata": {},
     "output_type": "execute_result"
    }
   ],
   "source": [
    "Data.matrix_asFrame.mean().nlargest(10)"
   ]
  },
  {
   "cell_type": "code",
   "execution_count": 65,
   "metadata": {},
   "outputs": [
    {
     "data": {
      "text/plain": [
       "21.000127"
      ]
     },
     "execution_count": 65,
     "metadata": {},
     "output_type": "execute_result"
    }
   ],
   "source": [
    "0.024677 * 851"
   ]
  },
  {
   "cell_type": "code",
   "execution_count": 67,
   "metadata": {},
   "outputs": [
    {
     "data": {
      "text/plain": [
       "UserID\n",
       "323811     1\n",
       "510587     1\n",
       "580991     1\n",
       "779764     1\n",
       "993682     1\n",
       "1037458    1\n",
       "1062591    1\n",
       "1066778    1\n",
       "1244472    1\n",
       "1307724    1\n",
       "1328238    1\n",
       "1490970    1\n",
       "1571724    1\n",
       "1614781    1\n",
       "1668070    1\n",
       "1771680    1\n",
       "1855214    1\n",
       "1890625    1\n",
       "1943733    1\n",
       "1980007    1\n",
       "1992377    1\n",
       "Name: 264810, dtype: int64"
      ]
     },
     "execution_count": 67,
     "metadata": {},
     "output_type": "execute_result"
    }
   ],
   "source": [
    "Data.matrix_asFrame[\"264810\"][Data.matrix_asFrame[\"264810\"] > 0]"
   ]
  },
  {
   "cell_type": "code",
   "execution_count": 16,
   "metadata": {},
   "outputs": [
    {
     "data": {
      "text/html": [
       "<div>\n",
       "<style scoped>\n",
       "    .dataframe tbody tr th:only-of-type {\n",
       "        vertical-align: middle;\n",
       "    }\n",
       "\n",
       "    .dataframe tbody tr th {\n",
       "        vertical-align: top;\n",
       "    }\n",
       "\n",
       "    .dataframe thead th {\n",
       "        text-align: right;\n",
       "    }\n",
       "</style>\n",
       "<table border=\"1\" class=\"dataframe\">\n",
       "  <thead>\n",
       "    <tr style=\"text-align: right;\">\n",
       "      <th></th>\n",
       "      <th>idUser</th>\n",
       "      <th>day</th>\n",
       "      <th>month</th>\n",
       "      <th>year</th>\n",
       "      <th>idContent</th>\n",
       "      <th>contentSubType</th>\n",
       "      <th>contentBranch</th>\n",
       "      <th>contentName</th>\n",
       "      <th>accessType</th>\n",
       "    </tr>\n",
       "  </thead>\n",
       "  <tbody>\n",
       "    <tr>\n",
       "      <th>1618797</th>\n",
       "      <td>228776</td>\n",
       "      <td>24</td>\n",
       "      <td>8</td>\n",
       "      <td>2015</td>\n",
       "      <td>0</td>\n",
       "      <td>home</td>\n",
       "      <td>NaN</td>\n",
       "      <td>home</td>\n",
       "      <td>view</td>\n",
       "    </tr>\n",
       "    <tr>\n",
       "      <th>1618798</th>\n",
       "      <td>228776</td>\n",
       "      <td>25</td>\n",
       "      <td>8</td>\n",
       "      <td>2015</td>\n",
       "      <td>0</td>\n",
       "      <td>home</td>\n",
       "      <td>NaN</td>\n",
       "      <td>home</td>\n",
       "      <td>view</td>\n",
       "    </tr>\n",
       "    <tr>\n",
       "      <th>1618799</th>\n",
       "      <td>228776</td>\n",
       "      <td>22</td>\n",
       "      <td>10</td>\n",
       "      <td>2015</td>\n",
       "      <td>0</td>\n",
       "      <td>home</td>\n",
       "      <td>NaN</td>\n",
       "      <td>home</td>\n",
       "      <td>view</td>\n",
       "    </tr>\n",
       "    <tr>\n",
       "      <th>1618800</th>\n",
       "      <td>228776</td>\n",
       "      <td>27</td>\n",
       "      <td>10</td>\n",
       "      <td>2015</td>\n",
       "      <td>0</td>\n",
       "      <td>home</td>\n",
       "      <td>NaN</td>\n",
       "      <td>home</td>\n",
       "      <td>view</td>\n",
       "    </tr>\n",
       "    <tr>\n",
       "      <th>1618801</th>\n",
       "      <td>331436</td>\n",
       "      <td>21</td>\n",
       "      <td>8</td>\n",
       "      <td>2013</td>\n",
       "      <td>236823</td>\n",
       "      <td>Statistic</td>\n",
       "      <td>978</td>\n",
       "      <td>Prevalence of obesity among adults in selected...</td>\n",
       "      <td>view</td>\n",
       "    </tr>\n",
       "  </tbody>\n",
       "</table>\n",
       "</div>"
      ],
      "text/plain": [
       "         idUser  day  month  year  idContent contentSubType contentBranch  \\\n",
       "1618797  228776   24      8  2015          0           home           NaN   \n",
       "1618798  228776   25      8  2015          0           home           NaN   \n",
       "1618799  228776   22     10  2015          0           home           NaN   \n",
       "1618800  228776   27     10  2015          0           home           NaN   \n",
       "1618801  331436   21      8  2013     236823      Statistic           978   \n",
       "\n",
       "                                               contentName accessType  \n",
       "1618797                                               home       view  \n",
       "1618798                                               home       view  \n",
       "1618799                                               home       view  \n",
       "1618800                                               home       view  \n",
       "1618801  Prevalence of obesity among adults in selected...       view  "
      ]
     },
     "execution_count": 16,
     "metadata": {},
     "output_type": "execute_result"
    }
   ],
   "source": [
    "Data.data_tracking.tail()"
   ]
  },
  {
   "cell_type": "code",
   "execution_count": 8,
   "metadata": {},
   "outputs": [],
   "source": [
    "Data.read_data_twocsv()"
   ]
  },
  {
   "cell_type": "code",
   "execution_count": 17,
   "metadata": {},
   "outputs": [
    {
     "data": {
      "text/plain": [
       "3237.602"
      ]
     },
     "execution_count": 17,
     "metadata": {},
     "output_type": "execute_result"
    }
   ],
   "source": [
    "1618801/500"
   ]
  },
  {
   "cell_type": "code",
   "execution_count": null,
   "metadata": {},
   "outputs": [],
   "source": []
  }
 ],
 "metadata": {
  "kernelspec": {
   "display_name": "Python 3",
   "language": "python",
   "name": "python3"
  },
  "language_info": {
   "codemirror_mode": {
    "name": "ipython",
    "version": 3
   },
   "file_extension": ".py",
   "mimetype": "text/x-python",
   "name": "python",
   "nbconvert_exporter": "python",
   "pygments_lexer": "ipython3",
   "version": "3.7.3"
  }
 },
 "nbformat": 4,
 "nbformat_minor": 2
}
