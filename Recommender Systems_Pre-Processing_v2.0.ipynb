{
 "cells": [
  {
   "cell_type": "code",
   "execution_count": 1,
   "metadata": {},
   "outputs": [],
   "source": [
    "import pandas as pd\n",
    "import numpy as np\n",
    "import os\n",
    "import heapq\n",
    "import scipy.sparse as sparse"
   ]
  },
  {
   "cell_type": "code",
   "execution_count": 2,
   "metadata": {},
   "outputs": [],
   "source": [
    "class Pre_Processer:\n",
    "    def read_data_small(self):\n",
    "        self.matrix_size = \"500\"\n",
    "        self.data_users = pd.read_csv(\"../StatistaUsers500.csv\")\n",
    "        self.data_tracking = pd.read_csv(\"../StatistaTracking500.csv\")\n",
    "        \n",
    "    def read_data_full(self):\n",
    "        self.matrix_size = \"10000\"\n",
    "        self.data_users = pd.read_csv(\"../StatistaUsers10000.csv\")\n",
    "        self.data_tracking = pd.read_csv(\"../StatistaTracking10000.csv\")\n",
    "        \n",
    "    def get_size(self, exponent):\n",
    "        if exponent == 0:\n",
    "            return \"extra_small\"\n",
    "        elif exponent == 0.5:\n",
    "            return \"small\"\n",
    "        elif exponent == 1:\n",
    "            return \"medium\"\n",
    "        elif exponent == 2:\n",
    "            return \"large\"\n",
    "        elif exponent == 999:\n",
    "            return \"full\"\n",
    "        else:\n",
    "            return \"different_size\"           \n",
    "        \n",
    "    def create_matrix(self, exponent):\n",
    "        # v2.0 Get all the viewed content for each user\n",
    "        size = 100*10**exponent\n",
    "        \n",
    "        frame = self.data_tracking[[\"idUser\", \"idContent\"]]\n",
    "        frame[\"views\"] = np.ones([len(frame[\"idContent\"]),1])\n",
    "        frame = frame.groupby(by=[\"idUser\", \"idContent\"]).sum().reset_index()\n",
    "        \n",
    "        user = list(np.sort(frame.idUser.unique()))\n",
    "        content = list(np.sort(frame.idContent.unique()))\n",
    "        views = list(frame.views)\n",
    "        rows = frame.idUser.astype('category', categories = user).cat.codes \n",
    "        cols = frame.idContent.astype('category', categories = content).cat.codes \n",
    "        \n",
    "        self.sparsity_ofdata = 1 - (len(views) / (len(content) * len(user)))\n",
    "                \n",
    "        self.matrix = sparse.csr_matrix((views, (rows, cols)), shape=(len(user), len(content)))\n",
    "        size_name = self.get_size(exponent)\n",
    "        sparse.save_npz(f\"../ratings_matrix_{self.matrix_size}_{size_name}\", self.matrix, compressed=True)\n",
    "        \n",
    "        self.matrix_asFrame = frame\n",
    "        self.matrix_asFrame.to_excel(f\"../data_{self.matrix_size}_{size_name}.xlsx\")"
   ]
  },
  {
   "cell_type": "code",
   "execution_count": 3,
   "metadata": {},
   "outputs": [],
   "source": [
    "Data = Pre_Processer()"
   ]
  },
  {
   "cell_type": "code",
   "execution_count": 4,
   "metadata": {},
   "outputs": [
    {
     "name": "stderr",
     "output_type": "stream",
     "text": [
      "C:\\Users\\studsmi\\AppData\\Local\\Continuum\\anaconda3\\lib\\site-packages\\ipykernel_launcher.py:31: SettingWithCopyWarning: \n",
      "A value is trying to be set on a copy of a slice from a DataFrame.\n",
      "Try using .loc[row_indexer,col_indexer] = value instead\n",
      "\n",
      "See the caveats in the documentation: http://pandas.pydata.org/pandas-docs/stable/indexing.html#indexing-view-versus-copy\n",
      "C:\\Users\\studsmi\\AppData\\Local\\Continuum\\anaconda3\\lib\\site-packages\\ipykernel_launcher.py:3: FutureWarning: specifying 'categories' or 'ordered' in .astype() is deprecated; pass a CategoricalDtype instead\n",
      "  This is separate from the ipykernel package so we can avoid doing imports until\n"
     ]
    }
   ],
   "source": [
    "# Full pre-processing step 1. Optional: set_ratings_size(). If not set 150*10**3 = 150.000 rows of tracking data will be read.\n",
    "Data.read_data_small()\n",
    "Data.create_matrix(999)"
   ]
  },
  {
   "cell_type": "code",
   "execution_count": 99,
   "metadata": {},
   "outputs": [
    {
     "data": {
      "text/html": [
       "<div>\n",
       "<style scoped>\n",
       "    .dataframe tbody tr th:only-of-type {\n",
       "        vertical-align: middle;\n",
       "    }\n",
       "\n",
       "    .dataframe tbody tr th {\n",
       "        vertical-align: top;\n",
       "    }\n",
       "\n",
       "    .dataframe thead th {\n",
       "        text-align: right;\n",
       "    }\n",
       "</style>\n",
       "<table border=\"1\" class=\"dataframe\">\n",
       "  <thead>\n",
       "    <tr style=\"text-align: right;\">\n",
       "      <th></th>\n",
       "      <th>idUser</th>\n",
       "      <th>idContent</th>\n",
       "      <th>views</th>\n",
       "    </tr>\n",
       "  </thead>\n",
       "  <tbody>\n",
       "    <tr>\n",
       "      <th>count</th>\n",
       "      <td>424911.000000</td>\n",
       "      <td>4.249110e+05</td>\n",
       "      <td>424911.000000</td>\n",
       "    </tr>\n",
       "    <tr>\n",
       "      <th>mean</th>\n",
       "      <td>96176.332578</td>\n",
       "      <td>3.104636e+05</td>\n",
       "      <td>3.809744</td>\n",
       "    </tr>\n",
       "    <tr>\n",
       "      <th>std</th>\n",
       "      <td>38568.482843</td>\n",
       "      <td>1.813573e+06</td>\n",
       "      <td>49.548521</td>\n",
       "    </tr>\n",
       "    <tr>\n",
       "      <th>min</th>\n",
       "      <td>5731.000000</td>\n",
       "      <td>0.000000e+00</td>\n",
       "      <td>1.000000</td>\n",
       "    </tr>\n",
       "    <tr>\n",
       "      <th>25%</th>\n",
       "      <td>64433.000000</td>\n",
       "      <td>5.690200e+04</td>\n",
       "      <td>1.000000</td>\n",
       "    </tr>\n",
       "    <tr>\n",
       "      <th>50%</th>\n",
       "      <td>121126.000000</td>\n",
       "      <td>1.947490e+05</td>\n",
       "      <td>2.000000</td>\n",
       "    </tr>\n",
       "    <tr>\n",
       "      <th>75%</th>\n",
       "      <td>121480.000000</td>\n",
       "      <td>3.256560e+05</td>\n",
       "      <td>3.000000</td>\n",
       "    </tr>\n",
       "    <tr>\n",
       "      <th>max</th>\n",
       "      <td>331436.000000</td>\n",
       "      <td>9.006080e+07</td>\n",
       "      <td>15666.000000</td>\n",
       "    </tr>\n",
       "  </tbody>\n",
       "</table>\n",
       "</div>"
      ],
      "text/plain": [
       "              idUser     idContent          views\n",
       "count  424911.000000  4.249110e+05  424911.000000\n",
       "mean    96176.332578  3.104636e+05       3.809744\n",
       "std     38568.482843  1.813573e+06      49.548521\n",
       "min      5731.000000  0.000000e+00       1.000000\n",
       "25%     64433.000000  5.690200e+04       1.000000\n",
       "50%    121126.000000  1.947490e+05       2.000000\n",
       "75%    121480.000000  3.256560e+05       3.000000\n",
       "max    331436.000000  9.006080e+07   15666.000000"
      ]
     },
     "execution_count": 99,
     "metadata": {},
     "output_type": "execute_result"
    }
   ],
   "source": [
    "Data.matrix_asFrame.describe()"
   ]
  },
  {
   "cell_type": "code",
   "execution_count": 100,
   "metadata": {},
   "outputs": [
    {
     "data": {
      "text/html": [
       "<div>\n",
       "<style scoped>\n",
       "    .dataframe tbody tr th:only-of-type {\n",
       "        vertical-align: middle;\n",
       "    }\n",
       "\n",
       "    .dataframe tbody tr th {\n",
       "        vertical-align: top;\n",
       "    }\n",
       "\n",
       "    .dataframe thead th {\n",
       "        text-align: right;\n",
       "    }\n",
       "</style>\n",
       "<table border=\"1\" class=\"dataframe\">\n",
       "  <thead>\n",
       "    <tr style=\"text-align: right;\">\n",
       "      <th></th>\n",
       "      <th>idUser</th>\n",
       "      <th>idContent</th>\n",
       "      <th>views</th>\n",
       "    </tr>\n",
       "  </thead>\n",
       "  <tbody>\n",
       "    <tr>\n",
       "      <th>0</th>\n",
       "      <td>5731</td>\n",
       "      <td>0</td>\n",
       "      <td>12759.0</td>\n",
       "    </tr>\n",
       "    <tr>\n",
       "      <th>1</th>\n",
       "      <td>5731</td>\n",
       "      <td>1</td>\n",
       "      <td>1.0</td>\n",
       "    </tr>\n",
       "    <tr>\n",
       "      <th>2</th>\n",
       "      <td>5731</td>\n",
       "      <td>5</td>\n",
       "      <td>1.0</td>\n",
       "    </tr>\n",
       "    <tr>\n",
       "      <th>3</th>\n",
       "      <td>5731</td>\n",
       "      <td>17</td>\n",
       "      <td>24.0</td>\n",
       "    </tr>\n",
       "    <tr>\n",
       "      <th>4</th>\n",
       "      <td>5731</td>\n",
       "      <td>18</td>\n",
       "      <td>1.0</td>\n",
       "    </tr>\n",
       "  </tbody>\n",
       "</table>\n",
       "</div>"
      ],
      "text/plain": [
       "   idUser  idContent    views\n",
       "0    5731          0  12759.0\n",
       "1    5731          1      1.0\n",
       "2    5731          5      1.0\n",
       "3    5731         17     24.0\n",
       "4    5731         18      1.0"
      ]
     },
     "execution_count": 100,
     "metadata": {},
     "output_type": "execute_result"
    }
   ],
   "source": [
    "Data.matrix_asFrame.head()"
   ]
  },
  {
   "cell_type": "code",
   "execution_count": 101,
   "metadata": {},
   "outputs": [
    {
     "data": {
      "text/html": [
       "<div>\n",
       "<style scoped>\n",
       "    .dataframe tbody tr th:only-of-type {\n",
       "        vertical-align: middle;\n",
       "    }\n",
       "\n",
       "    .dataframe tbody tr th {\n",
       "        vertical-align: top;\n",
       "    }\n",
       "\n",
       "    .dataframe thead th {\n",
       "        text-align: right;\n",
       "    }\n",
       "</style>\n",
       "<table border=\"1\" class=\"dataframe\">\n",
       "  <thead>\n",
       "    <tr style=\"text-align: right;\">\n",
       "      <th></th>\n",
       "      <th>idUser</th>\n",
       "      <th>idContent</th>\n",
       "      <th>views</th>\n",
       "    </tr>\n",
       "  </thead>\n",
       "  <tbody>\n",
       "    <tr>\n",
       "      <th>0</th>\n",
       "      <td>5731</td>\n",
       "      <td>0</td>\n",
       "      <td>12759.0</td>\n",
       "    </tr>\n",
       "    <tr>\n",
       "      <th>1</th>\n",
       "      <td>5731</td>\n",
       "      <td>1</td>\n",
       "      <td>1.0</td>\n",
       "    </tr>\n",
       "    <tr>\n",
       "      <th>2</th>\n",
       "      <td>5731</td>\n",
       "      <td>5</td>\n",
       "      <td>1.0</td>\n",
       "    </tr>\n",
       "    <tr>\n",
       "      <th>3</th>\n",
       "      <td>5731</td>\n",
       "      <td>17</td>\n",
       "      <td>24.0</td>\n",
       "    </tr>\n",
       "    <tr>\n",
       "      <th>4</th>\n",
       "      <td>5731</td>\n",
       "      <td>18</td>\n",
       "      <td>1.0</td>\n",
       "    </tr>\n",
       "  </tbody>\n",
       "</table>\n",
       "</div>"
      ],
      "text/plain": [
       "   idUser  idContent    views\n",
       "0    5731          0  12759.0\n",
       "1    5731          1      1.0\n",
       "2    5731          5      1.0\n",
       "3    5731         17     24.0\n",
       "4    5731         18      1.0"
      ]
     },
     "execution_count": 101,
     "metadata": {},
     "output_type": "execute_result"
    }
   ],
   "source": [
    "Data.matrix_asFrame[Data.matrix_asFrame.idUser == 5731].head()"
   ]
  },
  {
   "cell_type": "code",
   "execution_count": 106,
   "metadata": {},
   "outputs": [
    {
     "data": {
      "text/plain": [
       "array([[1.2759e+04, 1.0000e+00, 0.0000e+00, ..., 0.0000e+00, 0.0000e+00,\n",
       "        0.0000e+00],\n",
       "       [2.2000e+01, 0.0000e+00, 0.0000e+00, ..., 0.0000e+00, 0.0000e+00,\n",
       "        0.0000e+00],\n",
       "       [0.0000e+00, 0.0000e+00, 0.0000e+00, ..., 0.0000e+00, 0.0000e+00,\n",
       "        0.0000e+00],\n",
       "       ...,\n",
       "       [0.0000e+00, 0.0000e+00, 0.0000e+00, ..., 0.0000e+00, 0.0000e+00,\n",
       "        0.0000e+00],\n",
       "       [6.0000e+00, 0.0000e+00, 0.0000e+00, ..., 0.0000e+00, 0.0000e+00,\n",
       "        0.0000e+00],\n",
       "       [0.0000e+00, 0.0000e+00, 0.0000e+00, ..., 0.0000e+00, 0.0000e+00,\n",
       "        0.0000e+00]])"
      ]
     },
     "execution_count": 106,
     "metadata": {},
     "output_type": "execute_result"
    }
   ],
   "source": [
    "Data.matrix.toarray()"
   ]
  },
  {
   "cell_type": "code",
   "execution_count": null,
   "metadata": {},
   "outputs": [],
   "source": []
  }
 ],
 "metadata": {
  "kernelspec": {
   "display_name": "Python 3",
   "language": "python",
   "name": "python3"
  },
  "language_info": {
   "codemirror_mode": {
    "name": "ipython",
    "version": 3
   },
   "file_extension": ".py",
   "mimetype": "text/x-python",
   "name": "python",
   "nbconvert_exporter": "python",
   "pygments_lexer": "ipython3",
   "version": "3.7.3"
  }
 },
 "nbformat": 4,
 "nbformat_minor": 2
}
